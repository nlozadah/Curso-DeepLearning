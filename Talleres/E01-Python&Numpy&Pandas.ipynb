{
 "cells": [
     {
   "cell_type": "markdown",
   "metadata": {},
   "source": [
    "# Autores:\n",
    "\n",
    "## Nicolás Lozada"
    "## Camilo Yate"
   ]
  },
  {
   "cell_type": "markdown",
   "metadata": {},
   "source": [
    "# Exercise 01.1\n",
    "\n",
    "Create a function that receives two inputs a and b, and returns the product of the a decimal of pi and the b decimal of pi.\n",
    "\n",
    "```\n",
    "i.e, \n",
    "pi = 3.14159\n",
    "if a = 2 and b = 4\n",
    "result = 4 * 5\n",
    "result = 20\n",
    "```\n",
    "\n",
    "Caveats:\n",
    "- a and b are between 1 and 15\n",
    "- decimals positions 1 and 2 are 1 and 4, respectively. (remember that python start indexing in 0)"
   ]
  },
  {
   "cell_type": "code",
   "execution_count": 1,
   "metadata": {
    "collapsed": true
   },
   "outputs": [],
   "source": [
    "#Definición de la funcion\n",
    "from math import pi\n",
    "def mult_dec_pi(a, b):\n",
    "    \n",
    "    if (a<=15 and b<=15):\n",
    "        \n",
    "        s=str(pi)\n",
    "        s2=s[s.find(\".\"):]\n",
    "        m1=int(s2[a])\n",
    "        m2=int(s2[b])\n",
    "        result = m1*m2\n",
    "        return result\n",
    "    else:\n",
    "        return \"Error\"\n",
    "    "
   ]
  },
  {
   "cell_type": "code",
   "execution_count": 53,
   "metadata": {},
   "outputs": [
    {
     "data": {
      "text/plain": [
       "20"
      ]
     },
     "execution_count": 53,
     "metadata": {},
     "output_type": "execute_result"
    }
   ],
   "source": [
    "mult_dec_pi(a=2, b=4)\n",
    "# 20.0"
   ]
  },
  {
   "cell_type": "code",
   "execution_count": 54,
   "metadata": {},
   "outputs": [
    {
     "data": {
      "text/plain": [
       "45"
      ]
     },
     "execution_count": 54,
     "metadata": {},
     "output_type": "execute_result"
    }
   ],
   "source": [
    "mult_dec_pi(a=5, b=10)\n",
    "# 45.0"
   ]
  },
  {
   "cell_type": "code",
   "execution_count": 55,
   "metadata": {},
   "outputs": [
    {
     "data": {
      "text/plain": [
       "9"
      ]
     },
     "execution_count": 55,
     "metadata": {},
     "output_type": "execute_result"
    }
   ],
   "source": [
    "mult_dec_pi(a=14, b=1)\n",
    "# 9.0"
   ]
  },
  {
   "cell_type": "code",
   "execution_count": 56,
   "metadata": {},
   "outputs": [
    {
     "data": {
      "text/plain": [
       "10"
      ]
     },
     "execution_count": 56,
     "metadata": {},
     "output_type": "execute_result"
    }
   ],
   "source": [
    "mult_dec_pi(a=6, b=8)\n",
    "# 10.0"
   ]
  },
  {
   "cell_type": "code",
   "execution_count": 57,
   "metadata": {},
   "outputs": [
    {
     "data": {
      "text/plain": [
       "'Error'"
      ]
     },
     "execution_count": 57,
     "metadata": {},
     "output_type": "execute_result"
    }
   ],
   "source": [
    "# Bonus\n",
    "mult_dec_pi(a=16, b=4)\n",
    "# 'Error'"
   ]
  },
  {
   "cell_type": "markdown",
   "metadata": {},
   "source": [
    "# Exercise 01.2\n",
    "\n",
    "Using the given dataset. Estimate a linear regression between Employed and GNP.\n",
    "\n",
    "$$Employed = b_0 + b_1 * GNP $$\n",
    "\n",
    "$$\\hat b = (X^TX)^{-1}X^TY$$\n",
    "$$Y = Employed$$\n",
    "$$X = [1  \\quad GNP]$$"
   ]
  },
  {
   "cell_type": "code",
   "execution_count": 2,
   "metadata": {},
   "outputs": [
    {
     "data": {
      "text/plain": [
       "<matplotlib.text.Text at 0x132c66c66d8>"
      ]
     },
     "execution_count": 2,
     "metadata": {},
     "output_type": "execute_result"
    },
    {
     "data": {
      "image/png": "iVBORw0KGgoAAAANSUhEUgAAAYIAAAEKCAYAAAAfGVI8AAAABHNCSVQICAgIfAhkiAAAAAlwSFlz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\nAAAAAElFTkSuQmCC\n",
      "text/plain": [
       "<matplotlib.figure.Figure at 0x132c5722518>"
      ]
     },
     "metadata": {},
     "output_type": "display_data"
    }
   ],
   "source": [
    "%matplotlib inline\n",
    "import numpy as np\n",
    "import matplotlib.pyplot as plt\n",
    "# Import data\n",
    "raw_data = \"\"\"\n",
    "Year,Employed,GNP\n",
    "1947,60.323,234.289\n",
    "1948,61.122,259.426\n",
    "1949,60.171,258.054\n",
    "1950,61.187,284.599\n",
    "1951,63.221,328.975\n",
    "1952,63.639,346.999\n",
    "1953,64.989,365.385\n",
    "1954,63.761,363.112\n",
    "1955,66.019,397.469\n",
    "1956,67.857,419.18\n",
    "1957,68.169,442.769\n",
    "1958,66.513,444.546\n",
    "1959,68.655,482.704\n",
    "1960,69.564,502.601\n",
    "1961,69.331,518.173\n",
    "1962,70.551,554.894\"\"\"\n",
    "\n",
    "data = []\n",
    "for line in raw_data.splitlines()[2:]:\n",
    "    words = line.split(',')\n",
    "    data.append(words)\n",
    "data = np.array(data, dtype=np.float)\n",
    "n_obs = data.shape[0]\n",
    "plt.plot(data[:, 2], data[:, 1], 'bo')\n",
    "plt.xlabel(\"GNP\")\n",
    "plt.ylabel(\"Employed\")"
   ]
  },
  {
   "cell_type": "code",
   "execution_count": 3,
   "metadata": {
    "collapsed": true,
    "scrolled": true
   },
   "outputs": [],
   "source": [
    "from numpy.linalg import inv\n",
    "\n",
    "unos=[1]*n_obs\n",
    "GNP=data[:,2]\n",
    "\n",
    "X=np.column_stack((unos, GNP))\n",
    "Y=data[:,1]\n",
    "\n",
    "B = (inv(X.transpose() @ X) @ X.transpose()) @ Y"
   ]
  },
  {
   "cell_type": "code",
   "execution_count": 116,
   "metadata": {},
   "outputs": [
    {
     "data": {
      "text/plain": [
       "<matplotlib.legend.Legend at 0x1365fe49e80>"
      ]
     },
     "execution_count": 116,
     "metadata": {},
     "output_type": "execute_result"
    },
    {
     "data": {
      "image/png": "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\n",
      "text/plain": [
       "<matplotlib.figure.Figure at 0x1365f8f2438>"
      ]
     },
     "metadata": {},
     "output_type": "display_data"
    }
   ],
   "source": [
    "f = lambda x: B[1]*x + B[0]\n",
    "x = np.array([min(GNP),max(GNP)])\n",
    "plt.plot(data[:, 2], data[:, 1], 'bo')\n",
    "plt.plot(x,f(x), c=\"orange\", label=\"Ajuste Lineal\")\n",
    "plt.legend()"
   ]
  },
  {
   "cell_type": "markdown",
   "metadata": {},
   "source": [
    "# Exercise 01.3\n",
    "\n",
    "Analyze the baby names dataset using pandas"
   ]
  },
  {
   "cell_type": "code",
   "execution_count": 4,
   "metadata": {
    "collapsed": true
   },
   "outputs": [],
   "source": [
    "import pandas as pd\n",
    "# Load dataset\n",
    "import zipfile\n",
    "with zipfile.ZipFile('../datasets/baby-names2.csv.zip', 'r') as z:\n",
    "    f = z.open('baby-names2.csv')\n",
    "    names = pd.io.parsers.read_table(f, sep=',')"
   ]
  },
  {
   "cell_type": "code",
   "execution_count": 5,
   "metadata": {},
   "outputs": [
    {
     "data": {
      "text/html": [
       "<div>\n",
       "<style>\n",
       "    .dataframe thead tr:only-child th {\n",
       "        text-align: right;\n",
       "    }\n",
       "\n",
       "    .dataframe thead th {\n",
       "        text-align: left;\n",
       "    }\n",
       "\n",
       "    .dataframe tbody tr th {\n",
       "        vertical-align: top;\n",
       "    }\n",
       "</style>\n",
       "<table border=\"1\" class=\"dataframe\">\n",
       "  <thead>\n",
       "    <tr style=\"text-align: right;\">\n",
       "      <th></th>\n",
       "      <th>year</th>\n",
       "      <th>name</th>\n",
       "      <th>prop</th>\n",
       "      <th>sex</th>\n",
       "      <th>soundex</th>\n",
       "    </tr>\n",
       "  </thead>\n",
       "  <tbody>\n",
       "    <tr>\n",
       "      <th>0</th>\n",
       "      <td>1880</td>\n",
       "      <td>John</td>\n",
       "      <td>0.081541</td>\n",
       "      <td>boy</td>\n",
       "      <td>J500</td>\n",
       "    </tr>\n",
       "    <tr>\n",
       "      <th>1</th>\n",
       "      <td>1880</td>\n",
       "      <td>William</td>\n",
       "      <td>0.080511</td>\n",
       "      <td>boy</td>\n",
       "      <td>W450</td>\n",
       "    </tr>\n",
       "    <tr>\n",
       "      <th>2</th>\n",
       "      <td>1880</td>\n",
       "      <td>James</td>\n",
       "      <td>0.050057</td>\n",
       "      <td>boy</td>\n",
       "      <td>J520</td>\n",
       "    </tr>\n",
       "    <tr>\n",
       "      <th>3</th>\n",
       "      <td>1880</td>\n",
       "      <td>Charles</td>\n",
       "      <td>0.045167</td>\n",
       "      <td>boy</td>\n",
       "      <td>C642</td>\n",
       "    </tr>\n",
       "    <tr>\n",
       "      <th>4</th>\n",
       "      <td>1880</td>\n",
       "      <td>George</td>\n",
       "      <td>0.043292</td>\n",
       "      <td>boy</td>\n",
       "      <td>G620</td>\n",
       "    </tr>\n",
       "  </tbody>\n",
       "</table>\n",
       "</div>"
      ],
      "text/plain": [
       "   year     name      prop  sex soundex\n",
       "0  1880     John  0.081541  boy    J500\n",
       "1  1880  William  0.080511  boy    W450\n",
       "2  1880    James  0.050057  boy    J520\n",
       "3  1880  Charles  0.045167  boy    C642\n",
       "4  1880   George  0.043292  boy    G620"
      ]
     },
     "execution_count": 5,
     "metadata": {},
     "output_type": "execute_result"
    }
   ],
   "source": [
    "names.head()"
   ]
  },
  {
   "cell_type": "code",
   "execution_count": 6,
   "metadata": {
    "scrolled": true
   },
   "outputs": [
    {
     "data": {
      "text/html": [
       "<div>\n",
       "<style>\n",
       "    .dataframe thead tr:only-child th {\n",
       "        text-align: right;\n",
       "    }\n",
       "\n",
       "    .dataframe thead th {\n",
       "        text-align: left;\n",
       "    }\n",
       "\n",
       "    .dataframe tbody tr th {\n",
       "        vertical-align: top;\n",
       "    }\n",
       "</style>\n",
       "<table border=\"1\" class=\"dataframe\">\n",
       "  <thead>\n",
       "    <tr style=\"text-align: right;\">\n",
       "      <th></th>\n",
       "      <th>year</th>\n",
       "      <th>name</th>\n",
       "      <th>prop</th>\n",
       "      <th>sex</th>\n",
       "      <th>soundex</th>\n",
       "    </tr>\n",
       "  </thead>\n",
       "  <tbody>\n",
       "    <tr>\n",
       "      <th>113000</th>\n",
       "      <td>1993</td>\n",
       "      <td>Michael</td>\n",
       "      <td>0.024010</td>\n",
       "      <td>boy</td>\n",
       "      <td>M240</td>\n",
       "    </tr>\n",
       "    <tr>\n",
       "      <th>113001</th>\n",
       "      <td>1993</td>\n",
       "      <td>Christopher</td>\n",
       "      <td>0.018572</td>\n",
       "      <td>boy</td>\n",
       "      <td>C623</td>\n",
       "    </tr>\n",
       "    <tr>\n",
       "      <th>113002</th>\n",
       "      <td>1993</td>\n",
       "      <td>Matthew</td>\n",
       "      <td>0.017332</td>\n",
       "      <td>boy</td>\n",
       "      <td>M300</td>\n",
       "    </tr>\n",
       "    <tr>\n",
       "      <th>113003</th>\n",
       "      <td>1993</td>\n",
       "      <td>Joshua</td>\n",
       "      <td>0.016268</td>\n",
       "      <td>boy</td>\n",
       "      <td>J200</td>\n",
       "    </tr>\n",
       "    <tr>\n",
       "      <th>113004</th>\n",
       "      <td>1993</td>\n",
       "      <td>Tyler</td>\n",
       "      <td>0.014439</td>\n",
       "      <td>boy</td>\n",
       "      <td>T460</td>\n",
       "    </tr>\n",
       "  </tbody>\n",
       "</table>\n",
       "</div>"
      ],
      "text/plain": [
       "        year         name      prop  sex soundex\n",
       "113000  1993      Michael  0.024010  boy    M240\n",
       "113001  1993  Christopher  0.018572  boy    C623\n",
       "113002  1993      Matthew  0.017332  boy    M300\n",
       "113003  1993       Joshua  0.016268  boy    J200\n",
       "113004  1993        Tyler  0.014439  boy    T460"
      ]
     },
     "execution_count": 6,
     "metadata": {},
     "output_type": "execute_result"
    }
   ],
   "source": [
    "names[names.year == 1993].head()   "
   ]
  },
  {
   "cell_type": "markdown",
   "metadata": {},
   "source": [
    "### segment the data into boy and girl names"
   ]
  },
  {
   "cell_type": "code",
   "execution_count": 7,
   "metadata": {
    "collapsed": true
   },
   "outputs": [],
   "source": [
    "boys = names[names.sex == 'boy'].copy()    \n",
    "girls = names[names.sex == 'girl'].copy()"
   ]
  },
  {
   "cell_type": "markdown",
   "metadata": {},
   "source": [
    "### Analyzing the popularity of a name over time"
   ]
  },
  {
   "cell_type": "code",
   "execution_count": 8,
   "metadata": {},
   "outputs": [
    {
     "data": {
      "image/png": "iVBORw0KGgoAAAANSUhEUgAAAX0AAAEMCAYAAAAoB2Y1AAAABHNCSVQICAgIfAhkiAAAAAlwSFlz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\nRV9EJIb8P+G/MymBxQkMAAAAAElFTkSuQmCC\n",
      "text/plain": [
       "<matplotlib.figure.Figure at 0x132c82285c0>"
      ]
     },
     "metadata": {},
     "output_type": "display_data"
    }
   ],
   "source": [
    "william = boys[boys['name']=='William']\n",
    "\n",
    "plt.plot(range(william.shape[0]), william['prop'])\n",
    "plt.xticks(range(william.shape[0])[::5], william['year'].values[::5], rotation='vertical')\n",
    "plt.ylim([0, 0.1])\n",
    "plt.show()"
   ]
  },
  {
   "cell_type": "code",
   "execution_count": 9,
   "metadata": {},
   "outputs": [
    {
     "data": {
      "image/png": "iVBORw0KGgoAAAANSUhEUgAAAX0AAAEMCAYAAAAoB2Y1AAAABHNCSVQICAgIfAhkiAAAAAlwSFlz\nAAALEgAACxIB0t1+/AAAIABJREFUeJzt3XmYXGWZ9/Hv3VW9J+kknY10AglZgCTsDcHACLLjQlBh\nBEZBRkVUXGdG4R038HV8HWeG0RHHYXMQUEQGIaMsIpuAENIJSxYSaJKQdNZOOun03l1V9/vHOYGm\nqE5X9d59fp/rqqtPnXPXU08t/atTZ3nK3B0REYmGvMHugIiIDByFvohIhCj0RUQiRKEvIhIhCn0R\nkQhR6IuIREhWoW9m55rZOjOrNrNrMix/r5mtMLOEmV2YtuxyM3s9vFzeVx0XEZHcWXfH6ZtZDHgN\nOAuoAZYBl7j7mk41M4AxwN8DS9z93nD+eKAKqAQcWA4c7+57+vqBiIhI97JZ0z8RqHb39e7eDtwN\nLO5c4O4b3f0VIJV223OAR929Lgz6R4Fz+6DfIiLSA9mEfgWwudP1mnBeNnpzWxER6WPxLGosw7xs\nx27I6rZmdiVwJUBpaenxhx9+eJbNi4gIwPLly3e5+8Tu6rIJ/Rpgeqfr04CtWfajBjgt7bZPphe5\n+03ATQCVlZVeVVWVZfMiIgJgZm9mU5fN5p1lwBwzm2lmBcDFwJIs+/EIcLaZjTOzccDZ4TwRERkE\n3Ya+uyeAqwnC+lXgHndfbWbXm9n5AGZ2gpnVABcB/2Vmq8Pb1gHfI/jgWAZcH84TEZFB0O0hmwNN\nm3dERHJnZsvdvbK7Op2RKyISIQp9EZEIUeiLiESIQl9EJEIU+iIiEaLQFxGJEIW+iEiEKPRFRCJE\noS8iEiEKfRGRCFHoi4hEiEJfRCRCFPoiIhGi0BcRiRCFvohIhCj0RUQiRKEvIhIhCn0RkQhR6IuI\nRIhCX0QkQhT6IiIRotAXEYkQhb6ISIQo9EVEIkShLyISIQp9EZEIUeiLiESIQl9EJEIU+iIiEaLQ\nFxGJEIW+iEiEKPRFRCJEoS8iEiEKfRGRCFHoi4hESFahb2bnmtk6M6s2s2syLC80s9+Ey5ea2Yxw\nfr6Z3W5mK83sVTO7tm+7LyIiueg29M0sBtwInAfMAy4xs3lpZZ8C9rj7bOAG4Ifh/IuAQnc/Ejge\n+Oz+DwQRERl42azpnwhUu/t6d28H7gYWp9UsBm4Pp+8FzjAzAxwoNbM4UAy0A/v6pOciIpKzbEK/\nAtjc6XpNOC9jjbsngHqgnOADoAnYBmwC/sXd69LvwMyuNLMqM6uqra3N+UGIiEh2sgl9yzDPs6w5\nEUgCU4GZwN+Z2aHvKnS/yd0r3b1y4sSJWXRJRER6IpvQrwGmd7o+DdjaVU24KacMqAMuBR529w53\n3wk8C1T2ttMiItIz2YT+MmCOmc00swLgYmBJWs0S4PJw+kLgcXd3gk06p1ugFDgJWNs3XRcRkVx1\nG/rhNvqrgUeAV4F73H21mV1vZueHZbcC5WZWDXwN2H9Y543AKGAVwYfHL9z9lT5+DCIikiULVsiH\njsrKSq+qqhrsboiIDCtmttzdu918rjNyRUQiRKEvIhIhCn0RkQhR6IuIRIhCX0QkQhT6IiIRotAX\nEYkQhb6ISIQo9EVEIkShLyISIQp9EZEIUeiLiESIQl9EJEIU+iIiEaLQFxGJEIW+iEiEKPRFRCJE\noS8iEiEKfRGRCFHoi4hEiEJfRCRCFPoiIhGi0BcRiRCFvohIhCj0RUQiRKEvIhIhCn0RkQhR6IuI\nRIhCX0QkQhT6IiIRotAXEYkQhb6ISIQo9EVEIkShLyISIVmFvpmda2brzKzazK7JsLzQzH4TLl9q\nZjM6LTvKzJ4zs9VmttLMivqu+yIikotuQ9/MYsCNwHnAPOASM5uXVvYpYI+7zwZuAH4Y3jYO3Alc\n5e7zgdOAjj7rvYiI5CSbNf0TgWp3X+/u7cDdwOK0msXA7eH0vcAZZmbA2cAr7v4ygLvvdvdk33Rd\nRERylU3oVwCbO12vCedlrHH3BFAPlANzATezR8xshZl9vfddFhGRnopnUWMZ5nmWNXHgFOAEoBl4\nzMyWu/tj77ix2ZXAlQAHH3xwFl0SEZGeyGZNvwaY3un6NGBrVzXhdvwyoC6c/5S773L3ZuBB4Lj0\nO3D3m9y90t0rJ06cmPujEBGRrGQT+suAOWY208wKgIuBJWk1S4DLw+kLgcfd3YFHgKPMrCT8MDgV\nWNM3XRcRkVx1u3nH3RNmdjVBgMeA29x9tZldD1S5+xLgVuAOM6smWMO/OLztHjP7N4IPDgcedPc/\n9NNjERGRbliwQj50VFZWelVV1WB3Q0RkWAn3l1Z2V6czckVEIkShLyISIQp9EZEIUeiLiESIQl9E\nJEIU+iIiEaLQFxGJEIW+iEiEKPRFRCJEoS8iEiEKfRGRCFHoi4hEiEJfRCRCFPoiIhGi0BcRiRCF\nvohIhCj0RUQiRKEvIhIhCn0RkQhR6IuIRIhCX0QkQhT6IiIRotAXEYkQhb6ISIQo9EVEIkShLyIS\nIQp9EZEIUeiLiESIQl9EJEIU+iIiEaLQFxGJEIW+iEiEKPRFRCJEoS8iEiEKfRGRCMkq9M3sXDNb\nZ2bVZnZNhuWFZvabcPlSM5uRtvxgM2s0s7/vm26LiEhPdBv6ZhYDbgTOA+YBl5jZvLSyTwF73H02\ncAPww7TlNwAP9b67IiLSG9ms6Z8IVLv7endvB+4GFqfVLAZuD6fvBc4wMwMwswuA9cDqvumyiIj0\nVDahXwFs7nS9JpyXscbdE0A9UG5mpcA3gOsOdAdmdqWZVZlZVW1tbbZ9FxGRHGUT+pZhnmdZcx1w\ng7s3HugO3P0md69098qJEydm0SUREemJeBY1NcD0TtenAVu7qKkxszhQBtQBC4ELzeyfgbFAysxa\n3f2nve65iIjkLJvQXwbMMbOZwBbgYuDStJolwOXAc8CFwOPu7sBf7S8ws+8CjQp8EZHB023ou3vC\nzK4GHgFiwG3uvtrMrgeq3H0JcCtwh5lVE6zhX9yfnRYRkZ6xYIV86KisrPSqqqrB7oaIyLBiZsvd\nvbK7Op2RKyISIQp9EZEIUeiLiESIQl9EJEIU+iIiEaLQFxGJEIW+iEiEKPRFRCJEoS8iEiEKfRGR\nCFHoi4hEiEJfRCRCFPoiIhGi0BcRiRCFvohIhCj0RUQiRKEvIhIhCn0RkQhR6IuIRIhCX0QkQhT6\nIiIRotAXEYkQhb6ISIQo9EVEIkShLyISIQp9EZEIUeiLiESIQl9EJEIU+iIiEaLQFxGJEIW+iEiE\nKPRFRCJEoS8iEiEKfRGRCMkq9M3sXDNbZ2bVZnZNhuWFZvabcPlSM5sRzj/LzJab2crw7+l9230R\nEclFt6FvZjHgRuA8YB5wiZnNSyv7FLDH3WcDNwA/DOfvAj7k7kcClwN39FXHRUQkd9ms6Z8IVLv7\nendvB+4GFqfVLAZuD6fvBc4wM3P3F919azh/NVBkZoV90XERiSZ3H+wuDGvZhH4FsLnT9ZpwXsYa\nd08A9UB5Ws1HgRfdva1nXRWRKFv+Zh2X3vw8p/zwCdZu3zfY3Rm2sgl9yzAv/aP2gDVmNp9gk89n\nM96B2ZVmVmVmVbW1tVl0SUSiYndjG1f+soqP/udzvLajkY5kir/++XMs21g32F0blrIJ/Rpgeqfr\n04CtXdWYWRwoA+rC69OA3wGXufsbme7A3W9y90p3r5w4cWJuj0BERqyl63fz/p88zZOv1fIP5xzG\nn79+Gvd9fhETRhXy8VuWctszG+hIpga7m8NKNqG/DJhjZjPNrAC4GFiSVrOEYEctwIXA4+7uZjYW\n+ANwrbs/21edFpGR7+FV27nk5ucpKYjzu88v4gvvm01JQZxp40r47VXvYeGh5Vz/+zW8/8dPa60/\nB92GfriN/mrgEeBV4B53X21m15vZ+WHZrUC5mVUDXwP2H9Z5NTAb+JaZvRReJvX5oxCREWXd9ga+\nds9LHDltLP/7xVOYP7XsHcvLRxVy+xUncPNllbQmkvzNLUt5fO2OQert8GJDbU94ZWWlV1VVDXY3\nRGSQ7G1u5/yfPktLR5Lff/EUJo8pOmD9nqZ2LrvtBdZu38d/XHIc5y6YMkA9HVrMbLm7V3ZXpzNy\nRWTI+Ev1Li78+XNsr2/l5x8/vtvABxhXWsCdn17IgooyPnfXcq69byW7G3WQYFcU+iIy6F7f0cDn\n71rOpbcspS2R5JbLKzn+kHFZ376sOJ87P7WQKxbN5LdVmzntX57kD69s68ceD1/xwe6AiERPRzJF\n9c5GXt22j0fX7OChVdspKYjxlTPncNWpsyjKj+XcZmlhnG9/aB6XLpzON/5nJVf/egU7G+Zxxckz\n++ERDF8KfREZMJt2N/OrFzZxT9Vm6praARhdFOeLp8/mb0+eybjSgl7fx+xJo7nr0wv58t0vct3/\nrqG2oY1/OOcwzDKdThQ9Cn0R6XPJlPP067W8vqORbfWtbNjVyOqt+9jZ0EYszzjziEm8/8iDmD91\nDDPKS4nH+nZLc1F+jJ/9zfF88/5V/OzJN4jnGV87+7A+vY/hSqEvIj324qY91Da0UZQfw4HG1gTr\naxu5e9lmtuxtAaCkIMb0cSWcMnsCCyrKeP+RBzGlrPsdtL0VyzO+f8ECkqkUP3m8msL8GF943+x+\nv9+hTqEvIj3y0MptfO6uFRmXLZpVzjc/cASLZk9gTFF80Dat5OUZP/jIUbQlUvzokXW8tqOBb39w\nHuWjojvuo0JfRHK2aXczX7/3FY6ePpbvX7CA1o4kAKOL8hlfWsDE0UMnVGN5xr9edDQzykv52ZPV\n/Pm1Wt53+CQMoyCex+QxhUwtK+b0IyYxIQIfBgp9EclJWyLJ1b9egRn89JJjmT6+ZLC71K14LI+v\nnjWXDxx1ENf/7xqWrg+GbWjtSLI73KFcEM/jo8dV8Nn3zmLGhNLB7G6/UuiLRMir2/bxtXteZlxJ\nPqcdNpHTDpvEnEmjst784u784+9W8UpNPf/1ieOHReB3NnfyaO789MJ3zGtPpHijtpFfPvcm962o\n4b4VW/jGuYfzyUUzyMsbeUf8aBgGkSGirqmdX7+wibuXbQLg+IPHMWfyaJraErR0JPnAkQdROWN8\nj9t/dds+Lr35efJjeYwrKWDdjgYAppYVsWj2BA4qK2JMUT6v7WjgL2/spqG1g9MPn8S5C6bw3rkT\nKSmI86NH1nLjE2/w5TPm8NWz5vbJ4x5Kdu5r5dr7VvLY2p0snDmeb35gHkdOK+v+hkNAtsMwKPRF\nBsHGXU20J1NUjC1mw64mbv/LRh54eSvtiRSLZpVTVpxP1ZvBkTHxPCOWZ7QlUpx5xCQ+d9osjpk+\njliesbmumYdWbWN3YzvJlLOvtYONu5vZsa+V8aUFVIwtZkxxPvE84/evbKMglsfdV57EjAmlbN3b\nwlOv1fLUulqq3qyjrqmdlAdnt77n0HJKCmM8vnYne5s7KMrP4+hpY1m6oY5LTpzOP334yBF73Lu7\n89uqGr7/4KvUt3Rw1rzJfOXMOe8a9G2oUeiLDEHJlPPjP73GfzxRTed/veL8GB85roLLF81g7uTR\nQBA+rR0pivLzaOlI8otnN/LzJ9+goS3BmKI408eXsHpr8AtShfE8YnlGaWGcGeUlTB5TxJ7mdrbs\naaGxLUkylWLymCJ+/vHju9xenUo5Da0JRhfF39qskUimeGFDHY+s3s6ja3ZwzMFj+cnFx/b5cfVD\nUUNrB794diM3P72ehtYE5y2YwmdPncVRFWVDcrOPQl9kiKne2cg371/J8+vr+Ohx0zj1sIls2dNC\naWGMxcdUUFac320b9c0dPPV6Lc+8XsuGXU2cdtgkzj966rDbtj6c1Ld0cOszG7jtmQ00tiUYV5LP\nybMn8JHjKjh17iRiQ+QDQKEvMgSkUs5z63dz2zMbeGztTorzY1y/eD4XVU7v/sYypOxtbufxtTt5\ntno3T722k12N7VSMLeay9xzCx086hNLCwT0uRqEvMojaEklueXoDdy/bxOa6FspLC/jEew7hEycd\nEukTg0aKjmSKP63ZwR3Pv8lf3tjN+NICzpk/he31LWyqa+awKaP5qzkTObKijPGlBYwvLejRIHK5\nUOiLDJKd+1q56s7lrNi0l0WzyvnYCdM5Z/6Ufv+nl8GxYtMefvLY6yzbUMfB5aVUjC1m9dZ6ttW3\nvlWTHzPOnj+Fi0+YzsmzJvTLPgGFvsggeHnzXj7zyyoaWhP8y0VH84GjDhrsLskgcHfeqG2kemcT\ne5rbWbe9gftf2sLe5g4mji7k3PlTOHHmePJjwVnBC2eW93rzkEJfZIBVbazjk79YxtiSfG65vJLD\np4wZ7C7JENKWSPLomh08uHIbT6ytpSUcugJgVGGc84+ZyqUnHsyCip4dGppt6OuMXJE+8Mzru7jy\njiqmjCnirs8s5KCy4sHukgwxhfEYHzxqKh88aiot7Uk21TWTcqeuqZ3/WVHD/yyvob65gxv/5rh+\n7YdCX6SHWtqT3LX0Te5bsYU12/YxZ9Io7vr0QiZl8buuEm3FBTEOmzL6resnz57Adz40n4bWjn6/\nb4W+SA8898ZurrnvFd7c3czR08q47vz5fPi4CsYUdX+svUgmZcX5WZ2r0VsKfZEstSWSPLG2lvtf\n3MLDq7dzSHkJv/rMQhbNmjDYXRPJmkJf5AA6kimWbazjgRe38uCqbTS0JpgwqoDPnzaLL54+h+IC\nHYYpw4tCXyTN1r0t3P/SFp5+bRcvbd5LS0eS0oIY5yyYwuJjKjh5Vnkkxp6RkWnEhL6788jqHZx5\nxKR3/UOmUs7SDXUsqBjDaG1zlQwa2xI8vGo7962o4bn1u3GH+VPH8LETpnPSoeM5de4krdXLiDBi\nQv/Z6t1cdedyDp1QylfOmsvZ8yYDwdlyP3hwLSu31HPw+BJ+csmxHDN97Ltu35FM8dirO2lsS3DB\nMVO1JjdCpVLOprpmVm6pZ9XWemrqWthW38Kr2xpo6Ugyo7yEr545lw8fW6FBzGREGjEnZ+1f0/+3\nR9fx2o7GdyybWlbEZYtmcMdzb7JjXysfPraC8aMKKIrHaE0k2deS4E+v7qC2oQ2Ao6eP5V8vOorZ\nk0a/63627G3h8bU7Oe7gsUN+fO2o29fawaqaeqprG1lf28Ta7ftYvXUfDa0JIDg1fvr4Eg4qK2LW\nxFEsPmYqxx08bsSOEy8jW2TPyE2mnD+u3s6G3U0AjC8p4IJjKyjKj1Hf3MG3l6ziz6/V0tSWpD2Z\noiCWR3FBjBNmjOOSEw+muT3Jtx9YRUNrgnGlBRTG8xhTlM+kMYU0tyd5YUPdW/d13oIpLJpVzoub\n9lJd28j08SUcNnk0k0YXUlIYp76lg6Xrd/NyzV4K4zHGleQza+IoTp07kcOmjGbllnpWb93HsdPH\ncvb8KUNmiNaB0NqRxD0I3kTKaWlPknRnbHH+W9+ykimnPZEi5U5HMsWOfW1s39fK3uZ2mtqSNLUl\naGxL0NSWoKk9QWOnebUNbWzY1fTW/ZUWxJg9aRQLKso4sqKMBRVlzJ08moK4vtHJyBDZ0M9FKuUZ\nBz7a2dDKL57dyN7mdtoSKeqbO9jZ0EYi5Zw7fwpnz5/MQyu3cduzG2lsC47mmDt5NDV7ghH2Opsy\npojjDxmHE5x5t3rLPhraEm8tzzNIOcycUMoFx1QwpayQUYX5bN7TzMZdTcycUMpHj5/GhC5GZkym\nnKb2BKML4z1eQ21LBAHc3YBgbYkk9S0d7GvpIJ4X/ORecUGMprYEDa0JGto6aGxNsHlPC2u27mPD\nrkbMjHiekR/LIx4zGloTrN22j62dBqNKV1acT0cyRXN7ssuazkoKYpQUxBlVGKO0ME5pYZxxJfkc\nWVHGUdPGctiU4INYa/Aykin0B0B9Swf1zR1MH1/8VqA0tyfY09xBS3uCwniMaeOK3xE2HckUL23e\nyxs7G1lQUcacyaP405qd3PTnN3i5pv4d7Y8ryWdPcwf5MeOY6WNp7UjR2JYgz6AgHqOxrYNte1tJ\npJyy4nxmTCjl0AmlzCgvpXxUAYlkitZEirqmdnY1tpFIOvGY4R6MDV7X3MG2vS3UNrbhDqOL4owr\nKcAM3MEJ3hvtiRT1LR20dqSyfm6K82PMnFCKGSSSTkcqRSLpFOfHOPyg0cyeOIpYzEgknVieUVIQ\nI8+MuqZ29jS3UxDLY1RRnMJ4jDyDWJ4xeUwRB5UVMbakgFGFcUoLg7CP0jckka4o9Ieh1o4kuxrb\naGhNMHVsMWXF+VTvbODXL2zmlZq9YdDFcYe2RIrSwthbv4Fas6eZDbua2LirmS17W97RbkE8jwml\nBRTE80ikHDMYW1zA2JJ8powpomJcMfE8Y1djO3VN7QCYgQFmRkEsj7KSfMYUxSkrzmdMcT7JlL/1\n4VZaGGd0UT6jCuOMLoozeUwRMyeUKoxFBpAGXBuGivJjTBv3ziNGZk8azbc+OC+ndlo7gs0wBbE8\nCuJ5lBTEtGlDRACF/ohUlB/TD3aISEY6dEFEJEKyCn0zO9fM1plZtZldk2F5oZn9Jly+1MxmdFp2\nbTh/nZmd03ddFxGRXHUb+mYWA24EzgPmAZeYWfpG5k8Be9x9NnAD8MPwtvOAi4H5wLnAz8L2RERk\nEGSzpn8iUO3u6929HbgbWJxWsxi4PZy+FzjDgj2Hi4G73b3N3TcA1WF7IiIyCLLZkVsBbO50vQZY\n2FWNuyfMrB4oD+c/n3bbivQ7MLMrgSvDq41mti6r3mc2AdjVD7WqH9z6odQX1Q+fvoyE+mwdkk1R\nNqGf6Vi/9IP7u6rJ5ra4+03ATVn0pVtmVpXNsaq51qp+cOuHUl9UP3z6MhLq+1o2m3dqgOmdrk8D\ntnZVY2ZxoAyoy/K2IiIyQLIJ/WXAHDObaWYFBDtml6TVLAEuD6cvBB734FTfJcDF4dE9M4E5wAt9\n03UREclVt5t3wm30VwOPADHgNndfbWbXA1XuvgS4FbjDzKoJ1vAvDm+72szuAdYACeAL7p7dKFo9\nl8tmolw3Kal+8OqHUl9UP3htR7G+Tw25sXdERKT/6IxcEZEIUeiLiESIQl9EJEIU+iIiEaKhlUVE\ncmBmZQRjiVUQnGy6FXjE3fdmcduZwLHAGndf268d7aoPw/3onf58AczscILxgzq3vcTdX82i7VMI\nxhla5e5/7KKmv9s/B7ggrf0H3P3hDLUT3H1Xp+sf398+cLNneKMMQPs9en703A/t9ofzc29mlwHf\nAf4IbAlnTwPOAq5z91+m1d/v7heE04uBfweeBBYBP3D3/+7uMfe1Yb15J3wBVgCnASVAKfA+YHm4\nLL3+/k7Ti4HHgQ8BD5jZJ9Nqv0EwuJwRnFC2LJz+dRfDS7/QafozwE+B0cB3uqjv7/b/Hfgy8BTw\nz8CPwukvmdmP0+sJ3sT7b/tN4BPAcoI3878NQvtZPz967odP+8P9uQf+ETje3T/n7v83vFwFVALf\nzFDfeTycbwCnu/sVwMnAVzPU9z93H7YXYB0wNsP8ccBrGea/2Gn6L8DMcHoC8HJa7WtAfoY2CoDX\nu2l7GTAxnC4FVmao7/f2u3jOLIv2VwCl4XT+YLWf7fOj5374tD8SnnugLMP8si7aX9Fp+oWu7nsg\nL8N9m76RYQA3IEX3g73FPRjuGXffZWapDG1MBd5Mm39QuCxdnpmNI/j2ZO5eG7bdZGaJLvrYn+23\nmtmJ7p4+7MUJQGuG+mIzOzZsP+buTWH7HWaW6Szq/m4/l+dHz/3waX+4P/ffB1aY2R95e/Thgwm+\nGXwvQ/3RZraPII8KzWyKu28Ph7QZlN8WGe6h358vwFeAx8zs9bS2ZwNXZ2i7jOBroQHeqe1RZP4A\n6u/2Pwn8p5mNJhj4DoLB7/aFy9Jt4+2vs3VmdpC7bzOzcoIhNAa6/VyeHz33fdv+FQQ/eJRt+9tz\naH9YP/fufruZLQHOIdhnYATb6K919z0Z6rsK9hLgs10s61cjYUfuON75AtQQ7Mh91wtwgDbGAke4\n+3Np8/MIdup0bnuZ5zB+kJmVAJP3f6sYyPbD5VM6t+/u27NtO7x9DCh09+aBbr+3z4+e+27bzwOK\nBvq1HSHP/WQ67Sh29x3dtJdTfX8aCaEfd/dEOD0KOBxY7+51fVQ/kWDvfALY4O6N3fQn63ozM95+\n8+8/yuAF7+JFybX+APd7uOdwuNiB6s0s39070ua944iIntaH4YC7p8JvYwuAjZleq1xqu+jX5939\nZ9nU5lofvs/mErzPsjmq7ID14ePr2P+6m9n7gOOA1Z75CJWu6te4+0MZ6o9y91eyeWw9rD8Y2Ofu\ney34Pe1K4FV3X51D/Vp3X3WA+6gkWMNPEGxrP+D7Pdt6MzsG+DnBN5Aagg+VacBe4PPuviKt/ljg\nP8P6zkf77AU+5+4vHqhf/SLXnQBD6ULwdW03wc6V84D1wGMEXxsv6U09we8B/4ngJx7bgaXABuC/\nybwjJ9f6s8Pah4BbwsvD4byze1vfzfO2qbf1BEdJ1QC1BEdAzOi0bEUf1F8A7CD4+r04fD4fD9v4\nUE9rw/qvZbjs2j+dRf3fdVP/s07TpwCbgCfC99n7+6D+ZWBcOP0PBAclfBN4lOAwwFzq/1+G+mT4\nvvoeMC+L90fW9cA14f/FWuDT4d9bgdVdPJe51p8KVBH8L+4Bfg88S7AJZnof1L8ELMww/yTSDgbp\nSf1AXAb8Dvu087CS4MibmQTb7GaF8ycDr/SmnuBnHg8Lp08Ebg+nPwPcm6HtXOtfpVPwdZo/k2Ct\np7f1P+ni8h8Ea029rV8GzA+nLwReB04Kr7/rqIQe1L8ITOn0Wu1/bg8hGNK7R7Xh/AbgN8C3CY65\n/k74D/8d4Dt9UN/5iI0ngOPC6UO76E+u9as6TVcBxeF0PP193MP6Fwm+KX2fIMxfJgjfd73/cq0n\nCOtigp9TbeCdR+Os6oP6FzvVzAR+F06fBfyxD+rfdYROp2XVva0fiMuwPk4fSLr7Lg+26zW6+xsA\n3vX2slzqi919Xbj8BeDIcPpmgrX63tbHeXtHU2dbCA4X6239FQQnmCxPu1QRfBPpbX2Bh1/H3f1e\ngrXt281sWLkUAAAFJUlEQVTsw2Q+oirXetx9e/haber03L5JhvNLcqkF5hPsuC8FfuTu1wF73P26\ncLq39Z2N8fArv7uvp/sjNrKp32dmC8LpXUBROB0n8+PNtd7dfZW7/6O7zyZYcZkEPG1mf+llfdLd\nWwg2b7QQfPPGw6NmMsi1PubhET4E35gOCesfJcPvc/eg/iEz+4OZfczMFoWXj5nZHwi+efe2vt8N\n96N3NpnZDwhO1lhrZv8K3AecSfBVvzf1b5jZtwg2/3yE4GsaZpZP5uct1/rbgGVmdjdvH8UwneAH\naG7tg/plBGtC7/onNbPv9kF9x/4jKeCtH8w5g+Dr8aw+qMfM8tw9Bfxtp3kxgmO6e1zr7puACy04\nQe9RM7sh0/33tB443MxeIdjeO8PMxrn7nnC/Q6YP6FzrrwLuMrOXgZ1AlZk9BRwF/FMf1L/jqJhw\nJeYFM/s74L29rF9hZr8i+AB9jOCD/2HgdIIfW0qXa32Vmd0a1i4m2Eyzf8dvpg/QnOrd/Utmdh5v\nn1G8f0f0je7+YG/rB8Kw3pFrZmOALxCsKf6UYDiGTxJ8Yn/P3bf1tN6CI3r+D8Fa+ssE2z4bLBj2\n4Qh3fz6t7Zzqw9vMA87nnW+GJe6e6c2cU72ZjQdavYujD/qg/kyg1t1fTps/luAX0r7fy/oTCE6O\naU2bPwM4xd3v7ElthsdRCnyXYLtrpkDLud7MDkmbtc3d281sAvBed7+vN/XhbWIE+3nm8va3wC6H\nH8ml3swudfdfZWqni7azrrfgN7QvIvgfvBdYCFxC8D94Y/oafA/q8wm+aez/P7zN3ZNmVgxMCr/9\n9bh+JBjWoS8iMpDClbhrCdbcJ4WzdwIPEKzo7e1N/UAY1tv0zazSzJ4wszvNbLqZPWpme81sWXio\nVI/ru6itz7HtA9WPMrPrzWx1WFdrZs9b2hhAqu++fij1RfU9fq0uz7Ht7upX5dj3rOqBewh24r/P\n3cvdvZzgyLS9wG/7oL7/9XZP8GBeCAZsOo/g695m4MJw/hnAc72p78+2w/kPEGxamkZw6N+3gDnA\n7cA/qT77+qHUF9WP+Ndq3QHy6F3Lcq0fiMuA32Gfdv6dgyVt6mpZT+r7s+1wXvoAb8vCv3kEJ56o\nPsv6odQX1Y/41+qPwNcJzgbeP28ywQiaf+pt/UBchvXmHYLBlc42s4sIxuXYP271qQQnjPSmvj/b\nBmiyYGxwzOxDQB0EZ5RCxjFFVN91/VDqi+pH9mv1MYJzBp4ysz1mVkdwxM944K/7oL7/DcYnTV9d\ngKOBRwjOUj0c+DHBtrLVwKLe1Pdn22H9UQSbhPYCzwBzw/kTgS+pPvv6odQX1Y/s1ypcdjjBYd6j\n0uaf2xf1/X0Z8DscsAcGV/RXfX+2rXq9VlGtH0p96aoe+BLB73jcD2wEFndalmk4kZzqB+Iy4Hc4\nYA+sD8aXGYy2Va/XKqr1Q6kvXdUTDOUyKpyeQXDG+pfD65n23eVUPxCXYX1GrgVnMWZcRLCzpMf1\n/dm26vu2fij1RfUHrh9KfelJPcGwDY0A7r7RzE4D7rXgBLtM+wByre93wzr0CV6UcwiOg+3MCEYS\n7E19f7at+r6tH0p9Uf2B64dSX3pSv93MjnH3lwDcvdHMPkgwTMqRfVDf74Z76P+e4KvTS+kLzOzJ\nXtb3Z9uq79v6odQX1R+4fij1pSf1l5H2i1oe/D7HZWb2X31Q3+80DIOISIQM9+P0RUQkBwp9EZEI\nUeiLiESIQl9EJEIU+iIiEfL/ATuSa5poEc4rAAAAAElFTkSuQmCC\n",
      "text/plain": [
       "<matplotlib.figure.Figure at 0x132c8082eb8>"
      ]
     },
     "metadata": {},
     "output_type": "display_data"
    }
   ],
   "source": [
    "Daniel = boys[boys['name']=='Daniel']\n",
    "\n",
    "plt.plot(range(Daniel.shape[0]), Daniel['prop'])\n",
    "plt.xticks(range(Daniel.shape[0])[::5], Daniel['year'].values[::5], rotation='vertical')\n",
    "plt.ylim([0, 0.1])\n",
    "plt.show()"
   ]
  },
  {
   "cell_type": "markdown",
   "metadata": {},
   "source": [
    "# Exercise 01.3\n",
    "\n",
    "Which has been the most popular boy name every decade?"
   ]
  },
  {
   "cell_type": "markdown",
   "metadata": {},
   "source": [
    "Con el fin de identificar los nombre más populares po decadas, primero debemos resumir la tabla para cada una de las décadas, considerando que un nombre está varias veces en ellas según se encuentre en los distintos años. Con el fin de identificar el más popular en cada decada, calculamos el promedio de la proporción del nombre en la década."
   ]
  },
  {
   "cell_type": "code",
   "execution_count": 10,
   "metadata": {
    "scrolled": true
   },
   "outputs": [
    {
     "data": {
      "text/html": [
       "<div>\n",
       "<style>\n",
       "    .dataframe thead tr:only-child th {\n",
       "        text-align: right;\n",
       "    }\n",
       "\n",
       "    .dataframe thead th {\n",
       "        text-align: left;\n",
       "    }\n",
       "\n",
       "    .dataframe tbody tr th {\n",
       "        vertical-align: top;\n",
       "    }\n",
       "</style>\n",
       "<table border=\"1\" class=\"dataframe\">\n",
       "  <thead>\n",
       "    <tr>\n",
       "      <th></th>\n",
       "      <th></th>\n",
       "      <th>prop</th>\n",
       "    </tr>\n",
       "    <tr>\n",
       "      <th></th>\n",
       "      <th></th>\n",
       "      <th>valor</th>\n",
       "    </tr>\n",
       "    <tr>\n",
       "      <th>decada</th>\n",
       "      <th>name</th>\n",
       "      <th></th>\n",
       "    </tr>\n",
       "  </thead>\n",
       "  <tbody>\n",
       "    <tr>\n",
       "      <th rowspan=\"5\" valign=\"top\">1880</th>\n",
       "      <th>Aaron</th>\n",
       "      <td>0.000775</td>\n",
       "    </tr>\n",
       "    <tr>\n",
       "      <th>Ab</th>\n",
       "      <td>0.000044</td>\n",
       "    </tr>\n",
       "    <tr>\n",
       "      <th>Abb</th>\n",
       "      <td>0.000041</td>\n",
       "    </tr>\n",
       "    <tr>\n",
       "      <th>Abbie</th>\n",
       "      <td>0.000046</td>\n",
       "    </tr>\n",
       "    <tr>\n",
       "      <th>Abbott</th>\n",
       "      <td>0.000044</td>\n",
       "    </tr>\n",
       "  </tbody>\n",
       "</table>\n",
       "</div>"
      ],
      "text/plain": [
       "                   prop\n",
       "                  valor\n",
       "decada name            \n",
       "1880   Aaron   0.000775\n",
       "       Ab      0.000044\n",
       "       Abb     0.000041\n",
       "       Abbie   0.000046\n",
       "       Abbott  0.000044"
      ]
     },
     "execution_count": 10,
     "metadata": {},
     "output_type": "execute_result"
    }
   ],
   "source": [
    "#creamos la decada\n",
    "boys['decada'] = (boys['year'].astype(str)).str[0:3]+'0'\n",
    "boys.head()\n",
    "#Calculamos la proporcion de nombre en cada decada (asumimos que en todosb los años la cantidad es igual, de esta forma sumamos\n",
    "#'prop' en cada año)\n",
    "Agrupacion_decada_nombre = boys.groupby(['decada','name']).agg({'prop': [np.mean]}).rename(columns={'mean':'valor'})\n",
    "Agrupacion_decada_nombre.head()"
   ]
  },
  {
   "cell_type": "code",
   "execution_count": 11,
   "metadata": {
    "collapsed": true
   },
   "outputs": [],
   "source": [
    "#cambiamos nombre a columnas\n",
    "hombres = pd.DataFrame(Agrupacion_decada_nombre).reset_index()\n",
    "hombres.columns= ('decada','name','valor')"
   ]
  },
  {
   "cell_type": "code",
   "execution_count": 12,
   "metadata": {},
   "outputs": [
    {
     "data": {
      "text/html": [
       "<div>\n",
       "<style>\n",
       "    .dataframe thead tr:only-child th {\n",
       "        text-align: right;\n",
       "    }\n",
       "\n",
       "    .dataframe thead th {\n",
       "        text-align: left;\n",
       "    }\n",
       "\n",
       "    .dataframe tbody tr th {\n",
       "        vertical-align: top;\n",
       "    }\n",
       "</style>\n",
       "<table border=\"1\" class=\"dataframe\">\n",
       "  <thead>\n",
       "    <tr style=\"text-align: right;\">\n",
       "      <th></th>\n",
       "      <th>decada</th>\n",
       "      <th>name</th>\n",
       "      <th>valor</th>\n",
       "    </tr>\n",
       "  </thead>\n",
       "  <tbody>\n",
       "    <tr>\n",
       "      <th>945</th>\n",
       "      <td>1880</td>\n",
       "      <td>John</td>\n",
       "      <td>0.076488</td>\n",
       "    </tr>\n",
       "    <tr>\n",
       "      <th>2570</th>\n",
       "      <td>1890</td>\n",
       "      <td>John</td>\n",
       "      <td>0.065564</td>\n",
       "    </tr>\n",
       "    <tr>\n",
       "      <th>4104</th>\n",
       "      <td>1900</td>\n",
       "      <td>John</td>\n",
       "      <td>0.057788</td>\n",
       "    </tr>\n",
       "    <tr>\n",
       "      <th>5511</th>\n",
       "      <td>1910</td>\n",
       "      <td>John</td>\n",
       "      <td>0.054421</td>\n",
       "    </tr>\n",
       "    <tr>\n",
       "      <th>7113</th>\n",
       "      <td>1920</td>\n",
       "      <td>Robert</td>\n",
       "      <td>0.050654</td>\n",
       "    </tr>\n",
       "    <tr>\n",
       "      <th>8342</th>\n",
       "      <td>1930</td>\n",
       "      <td>Robert</td>\n",
       "      <td>0.054431</td>\n",
       "    </tr>\n",
       "    <tr>\n",
       "      <th>9142</th>\n",
       "      <td>1940</td>\n",
       "      <td>James</td>\n",
       "      <td>0.052746</td>\n",
       "    </tr>\n",
       "    <tr>\n",
       "      <th>10363</th>\n",
       "      <td>1950</td>\n",
       "      <td>James</td>\n",
       "      <td>0.041306</td>\n",
       "    </tr>\n",
       "    <tr>\n",
       "      <th>11843</th>\n",
       "      <td>1960</td>\n",
       "      <td>Michael</td>\n",
       "      <td>0.042683</td>\n",
       "    </tr>\n",
       "    <tr>\n",
       "      <th>13102</th>\n",
       "      <td>1970</td>\n",
       "      <td>Michael</td>\n",
       "      <td>0.041350</td>\n",
       "    </tr>\n",
       "    <tr>\n",
       "      <th>14361</th>\n",
       "      <td>1980</td>\n",
       "      <td>Michael</td>\n",
       "      <td>0.034584</td>\n",
       "    </tr>\n",
       "    <tr>\n",
       "      <th>15629</th>\n",
       "      <td>1990</td>\n",
       "      <td>Michael</td>\n",
       "      <td>0.022407</td>\n",
       "    </tr>\n",
       "    <tr>\n",
       "      <th>16575</th>\n",
       "      <td>2000</td>\n",
       "      <td>Jacob</td>\n",
       "      <td>0.013236</td>\n",
       "    </tr>\n",
       "  </tbody>\n",
       "</table>\n",
       "</div>"
      ],
      "text/plain": [
       "      decada     name     valor\n",
       "945     1880     John  0.076488\n",
       "2570    1890     John  0.065564\n",
       "4104    1900     John  0.057788\n",
       "5511    1910     John  0.054421\n",
       "7113    1920   Robert  0.050654\n",
       "8342    1930   Robert  0.054431\n",
       "9142    1940    James  0.052746\n",
       "10363   1950    James  0.041306\n",
       "11843   1960  Michael  0.042683\n",
       "13102   1970  Michael  0.041350\n",
       "14361   1980  Michael  0.034584\n",
       "15629   1990  Michael  0.022407\n",
       "16575   2000    Jacob  0.013236"
      ]
     },
     "execution_count": 12,
     "metadata": {},
     "output_type": "execute_result"
    }
   ],
   "source": [
    "#seleccionamos el nombre con mayor promedio de proporción en cada decada\n",
    "idx = hombres.groupby(['decada'])['valor'].transform(max) == hombres['valor']\n",
    "hombres[idx]"
   ]
  },
  {
   "cell_type": "markdown",
   "metadata": {},
   "source": [
    "# Exercise 01.4\n",
    "\n",
    "Which has been the most popular girl name?\n"
   ]
  },
  {
   "cell_type": "markdown",
   "metadata": {},
   "source": [
    "Aplicamos la misma metodología descrita anteriormente, solo que esta vez estamos interesados en encontrar el nombre más popular en toda la serie."
   ]
  },
  {
   "cell_type": "code",
   "execution_count": 14,
   "metadata": {},
   "outputs": [
    {
     "data": {
      "text/html": [
       "<div>\n",
       "<style>\n",
       "    .dataframe thead tr:only-child th {\n",
       "        text-align: right;\n",
       "    }\n",
       "\n",
       "    .dataframe thead th {\n",
       "        text-align: left;\n",
       "    }\n",
       "\n",
       "    .dataframe tbody tr th {\n",
       "        vertical-align: top;\n",
       "    }\n",
       "</style>\n",
       "<table border=\"1\" class=\"dataframe\">\n",
       "  <thead>\n",
       "    <tr>\n",
       "      <th></th>\n",
       "      <th>prop</th>\n",
       "    </tr>\n",
       "    <tr>\n",
       "      <th></th>\n",
       "      <th>valor</th>\n",
       "    </tr>\n",
       "    <tr>\n",
       "      <th>name</th>\n",
       "      <th></th>\n",
       "    </tr>\n",
       "  </thead>\n",
       "  <tbody>\n",
       "    <tr>\n",
       "      <th>Aaliyah</th>\n",
       "      <td>0.001317</td>\n",
       "    </tr>\n",
       "    <tr>\n",
       "      <th>Aaron</th>\n",
       "      <td>0.000089</td>\n",
       "    </tr>\n",
       "    <tr>\n",
       "      <th>Abagail</th>\n",
       "      <td>0.000133</td>\n",
       "    </tr>\n",
       "    <tr>\n",
       "      <th>Abbey</th>\n",
       "      <td>0.000239</td>\n",
       "    </tr>\n",
       "    <tr>\n",
       "      <th>Abbie</th>\n",
       "      <td>0.000243</td>\n",
       "    </tr>\n",
       "  </tbody>\n",
       "</table>\n",
       "</div>"
      ],
      "text/plain": [
       "             prop\n",
       "            valor\n",
       "name             \n",
       "Aaliyah  0.001317\n",
       "Aaron    0.000089\n",
       "Abagail  0.000133\n",
       "Abbey    0.000239\n",
       "Abbie    0.000243"
      ]
     },
     "execution_count": 14,
     "metadata": {},
     "output_type": "execute_result"
    }
   ],
   "source": [
    "#Tomando en cuanta toda la historia, calculamos por nombre el que tenga más proporción promedio en el tiempo\n",
    "Agrupacion_nombre = girls.groupby(['name']).agg({'prop': [np.mean]}).rename(columns={'mean':'valor'})\n",
    "Agrupacion_nombre.head()"
   ]
  },
  {
   "cell_type": "code",
   "execution_count": 15,
   "metadata": {},
   "outputs": [
    {
     "data": {
      "text/plain": [
       "name          Mary\n",
       "valor    0.0349757\n",
       "Name: 2729, dtype: object"
      ]
     },
     "execution_count": 15,
     "metadata": {},
     "output_type": "execute_result"
    }
   ],
   "source": [
    "#cambiamos nombre a columnas\n",
    "mujeres = pd.DataFrame(Agrupacion_nombre).reset_index()\n",
    "mujeres.columns= ('name','valor')\n",
    "#seleccionamos el nombre con mayor promedio de proporción en el tiempo\n",
    "mujeres.iloc[mujeres['valor'].idxmax()]"
   ]
  },
  {
   "cell_type": "markdown",
   "metadata": {},
   "source": [
    "El nombre más popular a traves del tiempo es Mary"
   ]
  },
  {
   "cell_type": "markdown",
   "metadata": {},
   "source": [
    "# Exercise 01.5\n",
    "\n",
    "What is the most popular new girl name? (new is a name that appears only in the 2000's)"
   ]
  },
  {
   "cell_type": "markdown",
   "metadata": {},
   "source": [
    "Tomamos la información úncamente de 2.000 en adelante"
   ]
  },
  {
   "cell_type": "code",
   "execution_count": 16,
   "metadata": {},
   "outputs": [
    {
     "data": {
      "text/html": [
       "<div>\n",
       "<style>\n",
       "    .dataframe thead tr:only-child th {\n",
       "        text-align: right;\n",
       "    }\n",
       "\n",
       "    .dataframe thead th {\n",
       "        text-align: left;\n",
       "    }\n",
       "\n",
       "    .dataframe tbody tr th {\n",
       "        vertical-align: top;\n",
       "    }\n",
       "</style>\n",
       "<table border=\"1\" class=\"dataframe\">\n",
       "  <thead>\n",
       "    <tr>\n",
       "      <th></th>\n",
       "      <th>prop</th>\n",
       "    </tr>\n",
       "    <tr>\n",
       "      <th></th>\n",
       "      <th>valor</th>\n",
       "    </tr>\n",
       "    <tr>\n",
       "      <th>name</th>\n",
       "      <th></th>\n",
       "    </tr>\n",
       "  </thead>\n",
       "  <tbody>\n",
       "    <tr>\n",
       "      <th>Aaliyah</th>\n",
       "      <td>0.001747</td>\n",
       "    </tr>\n",
       "    <tr>\n",
       "      <th>Abagail</th>\n",
       "      <td>0.000135</td>\n",
       "    </tr>\n",
       "    <tr>\n",
       "      <th>Abbey</th>\n",
       "      <td>0.000255</td>\n",
       "    </tr>\n",
       "    <tr>\n",
       "      <th>Abbie</th>\n",
       "      <td>0.000234</td>\n",
       "    </tr>\n",
       "    <tr>\n",
       "      <th>Abbigail</th>\n",
       "      <td>0.000284</td>\n",
       "    </tr>\n",
       "  </tbody>\n",
       "</table>\n",
       "</div>"
      ],
      "text/plain": [
       "              prop\n",
       "             valor\n",
       "name              \n",
       "Aaliyah   0.001747\n",
       "Abagail   0.000135\n",
       "Abbey     0.000255\n",
       "Abbie     0.000234\n",
       "Abbigail  0.000284"
      ]
     },
     "execution_count": 16,
     "metadata": {},
     "output_type": "execute_result"
    }
   ],
   "source": [
    "#Tomando en cuanta del 2000 en adelante, calculamos el promedio de prop para cada nombre\n",
    "#filtramos\n",
    "girls2 = girls[girls['year'].astype(str).astype(int) >= 2000]\n",
    "#agrupacion nombre\n",
    "Agrupacion_nombre_2000 = girls2.groupby(['name']).agg({'prop': [np.mean]}).rename(columns={'mean':'valor'})\n",
    "Agrupacion_nombre_2000.head()"
   ]
  },
  {
   "cell_type": "markdown",
   "metadata": {},
   "source": [
    "Encontramos el más popular"
   ]
  },
  {
   "cell_type": "code",
   "execution_count": 164,
   "metadata": {},
   "outputs": [
    {
     "data": {
      "text/plain": [
       "name         Emily\n",
       "valor    0.0114333\n",
       "Name: 434, dtype: object"
      ]
     },
     "execution_count": 164,
     "metadata": {},
     "output_type": "execute_result"
    }
   ],
   "source": [
    "#cambiamos nombre a columnas\n",
    "mujeres2000 = pd.DataFrame(Agrupacion_nombre_2000).reset_index()\n",
    "mujeres2000.columns= ('name','valor')\n",
    "#seleccionamos el nombre con mayor promedio de proporción en el tiempo\n",
    "mujeres2000.iloc[mujeres2000['valor'].idxmax()]"
   ]
  },
  {
   "cell_type": "markdown",
   "metadata": {},
   "source": [
    "Emily es el nuevo nombre de mujer más común"
   ]
  }
 ],
 "metadata": {
  "kernelspec": {
   "display_name": "Python 3",
   "language": "python",
   "name": "python3"
  },
  "language_info": {
   "codemirror_mode": {
    "name": "ipython",
    "version": 3
   },
   "file_extension": ".py",
   "mimetype": "text/x-python",
   "name": "python",
   "nbconvert_exporter": "python",
   "pygments_lexer": "ipython3",
   "version": "3.6.2"
  }
 },
 "nbformat": 4,
 "nbformat_minor": 2
}
