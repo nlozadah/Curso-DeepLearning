{
 "cells": [
     {
   "cell_type": "markdown",
   "metadata": {},
   "source": [
    "# Autores:\n",
    "\n",
    "## Nicolás Lozada"
    "## Camilo Yate"
   ]
  },
  {
   "cell_type": "markdown",
   "metadata": {},
   "source": [
    "# Exercise 02\n",
    "\n",
    "Estimate a regression using the Income data\n",
    "\n",
    "\n",
    "## Forecast of income\n",
    "\n",
    "We'll be working with a dataset from US Census indome ([data dictionary](https://archive.ics.uci.edu/ml/datasets/Adult)).\n",
    "\n",
    "Many businesses would like to personalize their offer based on customer’s income. High-income customers could be, for instance, exposed to premium products. As a customer’s income is not always explicitly known, predictive model could estimate income of a person based on other information.\n",
    "\n",
    "Our goal is to create a predictive model that will be able to output an estimation of a person income."
   ]
  },
  {
   "cell_type": "code",
   "execution_count": 2,
   "metadata": {},
   "outputs": [
    {
     "data": {
      "text/html": [
       "<div>\n",
       "<style>\n",
       "    .dataframe thead tr:only-child th {\n",
       "        text-align: right;\n",
       "    }\n",
       "\n",
       "    .dataframe thead th {\n",
       "        text-align: left;\n",
       "    }\n",
       "\n",
       "    .dataframe tbody tr th {\n",
       "        vertical-align: top;\n",
       "    }\n",
       "</style>\n",
       "<table border=\"1\" class=\"dataframe\">\n",
       "  <thead>\n",
       "    <tr style=\"text-align: right;\">\n",
       "      <th></th>\n",
       "      <th>Age</th>\n",
       "      <th>Workclass</th>\n",
       "      <th>fnlwgt</th>\n",
       "      <th>Education</th>\n",
       "      <th>Education-Num</th>\n",
       "      <th>Martial Status</th>\n",
       "      <th>Occupation</th>\n",
       "      <th>Relationship</th>\n",
       "      <th>Race</th>\n",
       "      <th>Sex</th>\n",
       "      <th>Capital Gain</th>\n",
       "      <th>Capital Loss</th>\n",
       "      <th>Hours per week</th>\n",
       "      <th>Country</th>\n",
       "      <th>Income</th>\n",
       "    </tr>\n",
       "  </thead>\n",
       "  <tbody>\n",
       "    <tr>\n",
       "      <th>0</th>\n",
       "      <td>39</td>\n",
       "      <td>State-gov</td>\n",
       "      <td>77516</td>\n",
       "      <td>Bachelors</td>\n",
       "      <td>13</td>\n",
       "      <td>Never-married</td>\n",
       "      <td>Adm-clerical</td>\n",
       "      <td>Not-in-family</td>\n",
       "      <td>White</td>\n",
       "      <td>Male</td>\n",
       "      <td>2174</td>\n",
       "      <td>0</td>\n",
       "      <td>40</td>\n",
       "      <td>United-States</td>\n",
       "      <td>51806.0</td>\n",
       "    </tr>\n",
       "    <tr>\n",
       "      <th>1</th>\n",
       "      <td>50</td>\n",
       "      <td>Self-emp-not-inc</td>\n",
       "      <td>83311</td>\n",
       "      <td>Bachelors</td>\n",
       "      <td>13</td>\n",
       "      <td>Married-civ-spouse</td>\n",
       "      <td>Exec-managerial</td>\n",
       "      <td>Husband</td>\n",
       "      <td>White</td>\n",
       "      <td>Male</td>\n",
       "      <td>0</td>\n",
       "      <td>0</td>\n",
       "      <td>13</td>\n",
       "      <td>United-States</td>\n",
       "      <td>68719.0</td>\n",
       "    </tr>\n",
       "    <tr>\n",
       "      <th>2</th>\n",
       "      <td>38</td>\n",
       "      <td>Private</td>\n",
       "      <td>215646</td>\n",
       "      <td>HS-grad</td>\n",
       "      <td>9</td>\n",
       "      <td>Divorced</td>\n",
       "      <td>Handlers-cleaners</td>\n",
       "      <td>Not-in-family</td>\n",
       "      <td>White</td>\n",
       "      <td>Male</td>\n",
       "      <td>0</td>\n",
       "      <td>0</td>\n",
       "      <td>40</td>\n",
       "      <td>United-States</td>\n",
       "      <td>51255.0</td>\n",
       "    </tr>\n",
       "    <tr>\n",
       "      <th>3</th>\n",
       "      <td>53</td>\n",
       "      <td>Private</td>\n",
       "      <td>234721</td>\n",
       "      <td>11th</td>\n",
       "      <td>7</td>\n",
       "      <td>Married-civ-spouse</td>\n",
       "      <td>Handlers-cleaners</td>\n",
       "      <td>Husband</td>\n",
       "      <td>Black</td>\n",
       "      <td>Male</td>\n",
       "      <td>0</td>\n",
       "      <td>0</td>\n",
       "      <td>40</td>\n",
       "      <td>United-States</td>\n",
       "      <td>47398.0</td>\n",
       "    </tr>\n",
       "    <tr>\n",
       "      <th>4</th>\n",
       "      <td>28</td>\n",
       "      <td>Private</td>\n",
       "      <td>338409</td>\n",
       "      <td>Bachelors</td>\n",
       "      <td>13</td>\n",
       "      <td>Married-civ-spouse</td>\n",
       "      <td>Prof-specialty</td>\n",
       "      <td>Wife</td>\n",
       "      <td>Black</td>\n",
       "      <td>Female</td>\n",
       "      <td>0</td>\n",
       "      <td>0</td>\n",
       "      <td>40</td>\n",
       "      <td>Cuba</td>\n",
       "      <td>30493.0</td>\n",
       "    </tr>\n",
       "  </tbody>\n",
       "</table>\n",
       "</div>"
      ],
      "text/plain": [
       "   Age         Workclass  fnlwgt  Education  Education-Num  \\\n",
       "0   39         State-gov   77516  Bachelors             13   \n",
       "1   50  Self-emp-not-inc   83311  Bachelors             13   \n",
       "2   38           Private  215646    HS-grad              9   \n",
       "3   53           Private  234721       11th              7   \n",
       "4   28           Private  338409  Bachelors             13   \n",
       "\n",
       "       Martial Status         Occupation   Relationship   Race     Sex  \\\n",
       "0       Never-married       Adm-clerical  Not-in-family  White    Male   \n",
       "1  Married-civ-spouse    Exec-managerial        Husband  White    Male   \n",
       "2            Divorced  Handlers-cleaners  Not-in-family  White    Male   \n",
       "3  Married-civ-spouse  Handlers-cleaners        Husband  Black    Male   \n",
       "4  Married-civ-spouse     Prof-specialty           Wife  Black  Female   \n",
       "\n",
       "   Capital Gain  Capital Loss  Hours per week        Country   Income  \n",
       "0          2174             0              40  United-States  51806.0  \n",
       "1             0             0              13  United-States  68719.0  \n",
       "2             0             0              40  United-States  51255.0  \n",
       "3             0             0              40  United-States  47398.0  \n",
       "4             0             0              40           Cuba  30493.0  "
      ]
     },
     "execution_count": 2,
     "metadata": {},
     "output_type": "execute_result"
    }
   ],
   "source": [
    "import pandas as pd\n",
    "import numpy as np\n",
    "\n",
    "%matplotlib inline\n",
    "import matplotlib.pyplot as plt\n",
    "\n",
    "# read the data and set the datetime as the index\n",
    "import zipfile\n",
    "with zipfile.ZipFile('../datasets/income.csv.zip', 'r') as z:\n",
    "    f = z.open('income.csv')\n",
    "    income = pd.read_csv(f, index_col=0)\n",
    "\n",
    "income.head()"
   ]
  },
  {
   "cell_type": "code",
   "execution_count": 3,
   "metadata": {},
   "outputs": [
    {
     "data": {
      "text/plain": [
       "(32561, 15)"
      ]
     },
     "execution_count": 3,
     "metadata": {},
     "output_type": "execute_result"
    }
   ],
   "source": [
    "income.shape"
   ]
  },
  {
   "cell_type": "markdown",
   "metadata": {},
   "source": [
    "# Exercise 2.1 \n",
    "\n",
    "What is the relation between the age and Income?\n",
    "\n",
    "For a one percent increase in the Age how much the income increases?\n",
    "\n",
    "Using sklearn estimate a linear regression and predict the income when the Age is 30 and 40 years"
   ]
  },
  {
   "cell_type": "code",
   "execution_count": 4,
   "metadata": {},
   "outputs": [
    {
     "data": {
      "text/plain": [
       "<matplotlib.axes._subplots.AxesSubplot at 0x204f99b59e8>"
      ]
     },
     "execution_count": 4,
     "metadata": {},
     "output_type": "execute_result"
    },
    {
     "data": {
      "image/png": "iVBORw0KGgoAAAANSUhEUgAAAZsAAAEKCAYAAADEovgeAAAABHNCSVQICAgIfAhkiAAAAAlwSFlz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\nG8MwDCNwzNgYhmEYgWPGxjAMwwic/wcBY7JFkyz6ggAAAABJRU5ErkJggg==\n",
      "text/plain": [
       "<matplotlib.figure.Figure at 0x204f97f62e8>"
      ]
     },
     "metadata": {},
     "output_type": "display_data"
    }
   ],
   "source": [
    "income.plot(x='Age', y='Income', kind='scatter')"
   ]
  },
  {
   "cell_type": "code",
   "execution_count": 5,
   "metadata": {},
   "outputs": [
    {
     "data": {
      "text/html": [
       "<div>\n",
       "<style>\n",
       "    .dataframe thead tr:only-child th {\n",
       "        text-align: right;\n",
       "    }\n",
       "\n",
       "    .dataframe thead th {\n",
       "        text-align: left;\n",
       "    }\n",
       "\n",
       "    .dataframe tbody tr th {\n",
       "        vertical-align: top;\n",
       "    }\n",
       "</style>\n",
       "<table border=\"1\" class=\"dataframe\">\n",
       "  <thead>\n",
       "    <tr style=\"text-align: right;\">\n",
       "      <th></th>\n",
       "      <th>Age</th>\n",
       "      <th>Workclass</th>\n",
       "      <th>fnlwgt</th>\n",
       "      <th>Education</th>\n",
       "      <th>Education-Num</th>\n",
       "      <th>Martial Status</th>\n",
       "      <th>Occupation</th>\n",
       "      <th>Relationship</th>\n",
       "      <th>Race</th>\n",
       "      <th>Sex</th>\n",
       "      <th>Capital Gain</th>\n",
       "      <th>Capital Loss</th>\n",
       "      <th>Hours per week</th>\n",
       "      <th>Country</th>\n",
       "      <th>Income</th>\n",
       "    </tr>\n",
       "  </thead>\n",
       "  <tbody>\n",
       "    <tr>\n",
       "      <th>0</th>\n",
       "      <td>39</td>\n",
       "      <td>State-gov</td>\n",
       "      <td>77516</td>\n",
       "      <td>Bachelors</td>\n",
       "      <td>13</td>\n",
       "      <td>Never-married</td>\n",
       "      <td>Adm-clerical</td>\n",
       "      <td>Not-in-family</td>\n",
       "      <td>White</td>\n",
       "      <td>Male</td>\n",
       "      <td>2174</td>\n",
       "      <td>0</td>\n",
       "      <td>40</td>\n",
       "      <td>United-States</td>\n",
       "      <td>51806.0</td>\n",
       "    </tr>\n",
       "    <tr>\n",
       "      <th>1</th>\n",
       "      <td>50</td>\n",
       "      <td>Self-emp-not-inc</td>\n",
       "      <td>83311</td>\n",
       "      <td>Bachelors</td>\n",
       "      <td>13</td>\n",
       "      <td>Married-civ-spouse</td>\n",
       "      <td>Exec-managerial</td>\n",
       "      <td>Husband</td>\n",
       "      <td>White</td>\n",
       "      <td>Male</td>\n",
       "      <td>0</td>\n",
       "      <td>0</td>\n",
       "      <td>13</td>\n",
       "      <td>United-States</td>\n",
       "      <td>68719.0</td>\n",
       "    </tr>\n",
       "    <tr>\n",
       "      <th>2</th>\n",
       "      <td>38</td>\n",
       "      <td>Private</td>\n",
       "      <td>215646</td>\n",
       "      <td>HS-grad</td>\n",
       "      <td>9</td>\n",
       "      <td>Divorced</td>\n",
       "      <td>Handlers-cleaners</td>\n",
       "      <td>Not-in-family</td>\n",
       "      <td>White</td>\n",
       "      <td>Male</td>\n",
       "      <td>0</td>\n",
       "      <td>0</td>\n",
       "      <td>40</td>\n",
       "      <td>United-States</td>\n",
       "      <td>51255.0</td>\n",
       "    </tr>\n",
       "    <tr>\n",
       "      <th>3</th>\n",
       "      <td>53</td>\n",
       "      <td>Private</td>\n",
       "      <td>234721</td>\n",
       "      <td>11th</td>\n",
       "      <td>7</td>\n",
       "      <td>Married-civ-spouse</td>\n",
       "      <td>Handlers-cleaners</td>\n",
       "      <td>Husband</td>\n",
       "      <td>Black</td>\n",
       "      <td>Male</td>\n",
       "      <td>0</td>\n",
       "      <td>0</td>\n",
       "      <td>40</td>\n",
       "      <td>United-States</td>\n",
       "      <td>47398.0</td>\n",
       "    </tr>\n",
       "    <tr>\n",
       "      <th>4</th>\n",
       "      <td>28</td>\n",
       "      <td>Private</td>\n",
       "      <td>338409</td>\n",
       "      <td>Bachelors</td>\n",
       "      <td>13</td>\n",
       "      <td>Married-civ-spouse</td>\n",
       "      <td>Prof-specialty</td>\n",
       "      <td>Wife</td>\n",
       "      <td>Black</td>\n",
       "      <td>Female</td>\n",
       "      <td>0</td>\n",
       "      <td>0</td>\n",
       "      <td>40</td>\n",
       "      <td>Cuba</td>\n",
       "      <td>30493.0</td>\n",
       "    </tr>\n",
       "  </tbody>\n",
       "</table>\n",
       "</div>"
      ],
      "text/plain": [
       "   Age         Workclass  fnlwgt  Education  Education-Num  \\\n",
       "0   39         State-gov   77516  Bachelors             13   \n",
       "1   50  Self-emp-not-inc   83311  Bachelors             13   \n",
       "2   38           Private  215646    HS-grad              9   \n",
       "3   53           Private  234721       11th              7   \n",
       "4   28           Private  338409  Bachelors             13   \n",
       "\n",
       "       Martial Status         Occupation   Relationship   Race     Sex  \\\n",
       "0       Never-married       Adm-clerical  Not-in-family  White    Male   \n",
       "1  Married-civ-spouse    Exec-managerial        Husband  White    Male   \n",
       "2            Divorced  Handlers-cleaners  Not-in-family  White    Male   \n",
       "3  Married-civ-spouse  Handlers-cleaners        Husband  Black    Male   \n",
       "4  Married-civ-spouse     Prof-specialty           Wife  Black  Female   \n",
       "\n",
       "   Capital Gain  Capital Loss  Hours per week        Country   Income  \n",
       "0          2174             0              40  United-States  51806.0  \n",
       "1             0             0              13  United-States  68719.0  \n",
       "2             0             0              40  United-States  51255.0  \n",
       "3             0             0              40  United-States  47398.0  \n",
       "4             0             0              40           Cuba  30493.0  "
      ]
     },
     "execution_count": 5,
     "metadata": {},
     "output_type": "execute_result"
    }
   ],
   "source": [
    "income.head()"
   ]
  },
  {
   "cell_type": "markdown",
   "metadata": {},
   "source": [
    "Calculamos la regresión"
   ]
  },
  {
   "cell_type": "code",
   "execution_count": 7,
   "metadata": {
    "scrolled": false
   },
   "outputs": [
    {
     "data": {
      "text/plain": [
       "LinearRegression(copy_X=True, fit_intercept=True, n_jobs=1, normalize=False)"
      ]
     },
     "execution_count": 7,
     "metadata": {},
     "output_type": "execute_result"
    }
   ],
   "source": [
    "#convertimos la base en dataframe\n",
    "income = pd.DataFrame(income)\n",
    "\n",
    "from sklearn.linear_model import LinearRegression\n",
    "clf1 = LinearRegression()\n",
    "#clf1.fit(income['Age'].values.reshape(1, -1), income['Income'].values.reshape(1, -1))\n",
    "clf1.fit(income['Age'].values.reshape(-1, 1), income['Income'].values.reshape(-1, 1))"
   ]
  },
  {
   "cell_type": "code",
   "execution_count": 8,
   "metadata": {
    "scrolled": true
   },
   "outputs": [
    {
     "name": "stdout",
     "output_type": "stream",
     "text": [
      "coeficiente:  [[ 542.16765707]]\n",
      "intercepto:  [ 32538.08813087]\n"
     ]
    }
   ],
   "source": [
    "print('coeficiente: ',clf1.coef_)\n",
    "print('intercepto: ',clf1.intercept_)"
   ]
  },
  {
   "cell_type": "markdown",
   "metadata": {},
   "source": [
    "La relación entre la edad y el ingreso es positiva, a mayor edad, mayor ingreso."
   ]
  },
  {
   "cell_type": "markdown",
   "metadata": {},
   "source": [
    "Por el incremento de una unidad en la edad, aumentan 32.538 uniandes el ingreso"
   ]
  },
  {
   "cell_type": "code",
   "execution_count": 9,
   "metadata": {},
   "outputs": [
    {
     "data": {
      "text/plain": [
       "array([30, 40])"
      ]
     },
     "execution_count": 9,
     "metadata": {},
     "output_type": "execute_result"
    }
   ],
   "source": [
    "new_x = np.array([30, 40])\n",
    "new_x"
   ]
  },
  {
   "cell_type": "code",
   "execution_count": 10,
   "metadata": {},
   "outputs": [
    {
     "data": {
      "text/plain": [
       "array([[ 48803.11784304],\n",
       "       [ 54224.79441376]])"
      ]
     },
     "execution_count": 10,
     "metadata": {},
     "output_type": "execute_result"
    }
   ],
   "source": [
    "clf1.predict(new_x.reshape(-1, 1))"
   ]
  },
  {
   "cell_type": "markdown",
   "metadata": {},
   "source": [
    "Cuando la edad es 30 la predicción es 48.803, y cuando la edad es 40 la predicción es 54.224"
   ]
  },
  {
   "cell_type": "markdown",
   "metadata": {},
   "source": [
    "# Exercise 2.2\n",
    "Evaluate the model using the MSE"
   ]
  },
  {
   "cell_type": "markdown",
   "metadata": {},
   "source": [
    "Calculamos el MSE sobre la misma base utilizada para estimar el modelo"
   ]
  },
  {
   "cell_type": "code",
   "execution_count": 11,
   "metadata": {},
   "outputs": [
    {
     "name": "stdout",
     "output_type": "stream",
     "text": [
      "MSE :  593783043.84\n"
     ]
    }
   ],
   "source": [
    "from sklearn import metrics\n",
    "\n",
    "#y estimado\n",
    "y_estimado = clf1.predict(income['Age'].values.reshape(-1, 1))\n",
    "#MSE\n",
    "MSE = metrics.mean_squared_error(income['Income'].values.reshape(-1, 1), y_estimado)\n",
    "print('MSE : ',MSE)"
   ]
  },
  {
   "cell_type": "markdown",
   "metadata": {},
   "source": [
    "\n",
    "# Exercise 2.3\n",
    "\n",
    "Run a regression model using as features the Age and Age$^2$ using the OLS equations"
   ]
  },
  {
   "cell_type": "markdown",
   "metadata": {},
   "source": [
    "Calculamos la edad ^2"
   ]
  },
  {
   "cell_type": "code",
   "execution_count": 12,
   "metadata": {
    "scrolled": true
   },
   "outputs": [
    {
     "data": {
      "text/plain": [
       "LinearRegression(copy_X=True, fit_intercept=False, n_jobs=1, normalize=False)"
      ]
     },
     "execution_count": 12,
     "metadata": {},
     "output_type": "execute_result"
    }
   ],
   "source": [
    "#construimos la varibale edad al cuadrado\n",
    "income['Age_2'] = income['Age'] * income['Age']\n",
    "#Iniciación de modelo usando OLS equation\n",
    "lin_reg_2 = LinearRegression(fit_intercept=False)\n",
    "#fit\n",
    "lin_reg_2.fit(income[['Age','Age_2']], income['Income'].values.reshape(-1, 1))"
   ]
  },
  {
   "cell_type": "code",
   "execution_count": 13,
   "metadata": {},
   "outputs": [
    {
     "name": "stdout",
     "output_type": "stream",
     "text": [
      "MSE :  549233115.876\n"
     ]
    }
   ],
   "source": [
    "y_estimado_2 = lin_reg_2.predict(income[['Age','Age_2']])\n",
    "MSE_2 = metrics.mean_squared_error(income['Income'].values.reshape(-1, 1), y_estimado_2)\n",
    "print('MSE : ',MSE_2)"
   ]
  },
  {
   "cell_type": "markdown",
   "metadata": {},
   "source": [
    "El MSE es más bajo que el modelo calculado anteriormente donde solo se tenía una variable."
   ]
  },
  {
   "cell_type": "markdown",
   "metadata": {},
   "source": [
    "# Exercise 2.4\n",
    "\n",
    "\n",
    "Estimate a regression using more features.\n",
    "\n",
    "How is the performance compared to using only the Age?"
   ]
  },
  {
   "cell_type": "code",
   "execution_count": 14,
   "metadata": {},
   "outputs": [
    {
     "data": {
      "text/html": [
       "<div>\n",
       "<style>\n",
       "    .dataframe thead tr:only-child th {\n",
       "        text-align: right;\n",
       "    }\n",
       "\n",
       "    .dataframe thead th {\n",
       "        text-align: left;\n",
       "    }\n",
       "\n",
       "    .dataframe tbody tr th {\n",
       "        vertical-align: top;\n",
       "    }\n",
       "</style>\n",
       "<table border=\"1\" class=\"dataframe\">\n",
       "  <thead>\n",
       "    <tr style=\"text-align: right;\">\n",
       "      <th></th>\n",
       "      <th>Age</th>\n",
       "      <th>Workclass</th>\n",
       "      <th>fnlwgt</th>\n",
       "      <th>Education</th>\n",
       "      <th>Education-Num</th>\n",
       "      <th>Martial Status</th>\n",
       "      <th>Occupation</th>\n",
       "      <th>Relationship</th>\n",
       "      <th>Race</th>\n",
       "      <th>Sex</th>\n",
       "      <th>Capital Gain</th>\n",
       "      <th>Capital Loss</th>\n",
       "      <th>Hours per week</th>\n",
       "      <th>Country</th>\n",
       "      <th>Income</th>\n",
       "      <th>Age_2</th>\n",
       "    </tr>\n",
       "  </thead>\n",
       "  <tbody>\n",
       "    <tr>\n",
       "      <th>0</th>\n",
       "      <td>39</td>\n",
       "      <td>State-gov</td>\n",
       "      <td>77516</td>\n",
       "      <td>Bachelors</td>\n",
       "      <td>13</td>\n",
       "      <td>Never-married</td>\n",
       "      <td>Adm-clerical</td>\n",
       "      <td>Not-in-family</td>\n",
       "      <td>White</td>\n",
       "      <td>Male</td>\n",
       "      <td>2174</td>\n",
       "      <td>0</td>\n",
       "      <td>40</td>\n",
       "      <td>United-States</td>\n",
       "      <td>51806.0</td>\n",
       "      <td>1521</td>\n",
       "    </tr>\n",
       "    <tr>\n",
       "      <th>1</th>\n",
       "      <td>50</td>\n",
       "      <td>Self-emp-not-inc</td>\n",
       "      <td>83311</td>\n",
       "      <td>Bachelors</td>\n",
       "      <td>13</td>\n",
       "      <td>Married-civ-spouse</td>\n",
       "      <td>Exec-managerial</td>\n",
       "      <td>Husband</td>\n",
       "      <td>White</td>\n",
       "      <td>Male</td>\n",
       "      <td>0</td>\n",
       "      <td>0</td>\n",
       "      <td>13</td>\n",
       "      <td>United-States</td>\n",
       "      <td>68719.0</td>\n",
       "      <td>2500</td>\n",
       "    </tr>\n",
       "    <tr>\n",
       "      <th>2</th>\n",
       "      <td>38</td>\n",
       "      <td>Private</td>\n",
       "      <td>215646</td>\n",
       "      <td>HS-grad</td>\n",
       "      <td>9</td>\n",
       "      <td>Divorced</td>\n",
       "      <td>Handlers-cleaners</td>\n",
       "      <td>Not-in-family</td>\n",
       "      <td>White</td>\n",
       "      <td>Male</td>\n",
       "      <td>0</td>\n",
       "      <td>0</td>\n",
       "      <td>40</td>\n",
       "      <td>United-States</td>\n",
       "      <td>51255.0</td>\n",
       "      <td>1444</td>\n",
       "    </tr>\n",
       "    <tr>\n",
       "      <th>3</th>\n",
       "      <td>53</td>\n",
       "      <td>Private</td>\n",
       "      <td>234721</td>\n",
       "      <td>11th</td>\n",
       "      <td>7</td>\n",
       "      <td>Married-civ-spouse</td>\n",
       "      <td>Handlers-cleaners</td>\n",
       "      <td>Husband</td>\n",
       "      <td>Black</td>\n",
       "      <td>Male</td>\n",
       "      <td>0</td>\n",
       "      <td>0</td>\n",
       "      <td>40</td>\n",
       "      <td>United-States</td>\n",
       "      <td>47398.0</td>\n",
       "      <td>2809</td>\n",
       "    </tr>\n",
       "    <tr>\n",
       "      <th>4</th>\n",
       "      <td>28</td>\n",
       "      <td>Private</td>\n",
       "      <td>338409</td>\n",
       "      <td>Bachelors</td>\n",
       "      <td>13</td>\n",
       "      <td>Married-civ-spouse</td>\n",
       "      <td>Prof-specialty</td>\n",
       "      <td>Wife</td>\n",
       "      <td>Black</td>\n",
       "      <td>Female</td>\n",
       "      <td>0</td>\n",
       "      <td>0</td>\n",
       "      <td>40</td>\n",
       "      <td>Cuba</td>\n",
       "      <td>30493.0</td>\n",
       "      <td>784</td>\n",
       "    </tr>\n",
       "  </tbody>\n",
       "</table>\n",
       "</div>"
      ],
      "text/plain": [
       "   Age         Workclass  fnlwgt  Education  Education-Num  \\\n",
       "0   39         State-gov   77516  Bachelors             13   \n",
       "1   50  Self-emp-not-inc   83311  Bachelors             13   \n",
       "2   38           Private  215646    HS-grad              9   \n",
       "3   53           Private  234721       11th              7   \n",
       "4   28           Private  338409  Bachelors             13   \n",
       "\n",
       "       Martial Status         Occupation   Relationship   Race     Sex  \\\n",
       "0       Never-married       Adm-clerical  Not-in-family  White    Male   \n",
       "1  Married-civ-spouse    Exec-managerial        Husband  White    Male   \n",
       "2            Divorced  Handlers-cleaners  Not-in-family  White    Male   \n",
       "3  Married-civ-spouse  Handlers-cleaners        Husband  Black    Male   \n",
       "4  Married-civ-spouse     Prof-specialty           Wife  Black  Female   \n",
       "\n",
       "   Capital Gain  Capital Loss  Hours per week        Country   Income  Age_2  \n",
       "0          2174             0              40  United-States  51806.0   1521  \n",
       "1             0             0              13  United-States  68719.0   2500  \n",
       "2             0             0              40  United-States  51255.0   1444  \n",
       "3             0             0              40  United-States  47398.0   2809  \n",
       "4             0             0              40           Cuba  30493.0    784  "
      ]
     },
     "execution_count": 14,
     "metadata": {},
     "output_type": "execute_result"
    }
   ],
   "source": [
    "income.head()"
   ]
  },
  {
   "cell_type": "code",
   "execution_count": 97,
   "metadata": {},
   "outputs": [
    {
     "data": {
      "text/plain": [
       "Age                 int64\n",
       "Workclass          object\n",
       "fnlwgt              int64\n",
       "Education          object\n",
       "Education-Num       int64\n",
       "Martial Status     object\n",
       "Occupation         object\n",
       "Relationship       object\n",
       "Race               object\n",
       "Sex                object\n",
       "Capital Gain        int64\n",
       "Capital Loss        int64\n",
       "Hours per week      int64\n",
       "Country            object\n",
       "Income            float64\n",
       "Age_2               int64\n",
       "dtype: object"
      ]
     },
     "execution_count": 97,
     "metadata": {},
     "output_type": "execute_result"
    }
   ],
   "source": [
    "income.dtypes"
   ]
  },
  {
   "cell_type": "markdown",
   "metadata": {},
   "source": [
    "Con el fin de incorporar las variables categoricas al modelo, primero debemos transformarlas en dummies."
   ]
  },
  {
   "cell_type": "code",
   "execution_count": 15,
   "metadata": {},
   "outputs": [
    {
     "data": {
      "text/plain": [
       "Index(['Age', 'fnlwgt', 'Education-Num', 'Capital Gain', 'Capital Loss',\n",
       "       'Hours per week', 'Age_2', 'w_Local-gov', 'w_Never-worked', 'w_Private',\n",
       "       'w_Self-emp-inc', 'w_Self-emp-not-inc', 'w_State-gov', 'w_Without-pay',\n",
       "       'E_11th', 'E_12th', 'E_1st-4th', 'E_5th-6th', 'E_7th-8th', 'E_9th',\n",
       "       'E_Assoc-acdm', 'E_Assoc-voc', 'E_Bachelors', 'E_Doctorate',\n",
       "       'E_HS-grad', 'E_Masters', 'E_Preschool', 'E_Prof-school',\n",
       "       'E_Some-college', 'M_Married-AF-spouse', 'M_Married-civ-spouse',\n",
       "       'M_Married-spouse-absent', 'M_Never-married', 'M_Separated',\n",
       "       'M_Widowed', 'O_Armed-Forces', 'O_Craft-repair', 'O_Exec-managerial',\n",
       "       'O_Farming-fishing', 'O_Handlers-cleaners', 'O_Machine-op-inspct',\n",
       "       'O_Other-service', 'O_Priv-house-serv', 'O_Prof-specialty',\n",
       "       'O_Protective-serv', 'O_Sales', 'O_Tech-support', 'O_Transport-moving',\n",
       "       'R_Not-in-family', 'R_Other-relative', 'R_Own-child', 'R_Unmarried',\n",
       "       'R_Wife', 'RA_Asian-Pac-Islander', 'RA_Black', 'RA_Other', 'RA_White',\n",
       "       'S_Male', 'C_Canada', 'C_China', 'C_Columbia', 'C_Cuba',\n",
       "       'C_Dominican-Republic', 'C_Ecuador', 'C_El-Salvador', 'C_England',\n",
       "       'C_France', 'C_Germany', 'C_Greece', 'C_Guatemala', 'C_Haiti',\n",
       "       'C_Holand-Netherlands', 'C_Honduras', 'C_Hong', 'C_Hungary', 'C_India',\n",
       "       'C_Iran', 'C_Ireland', 'C_Italy', 'C_Jamaica', 'C_Japan', 'C_Laos',\n",
       "       'C_Mexico', 'C_Nicaragua', 'C_Outlying-US(Guam-USVI-etc)', 'C_Peru',\n",
       "       'C_Philippines', 'C_Poland', 'C_Portugal', 'C_Puerto-Rico',\n",
       "       'C_Scotland', 'C_South', 'C_Taiwan', 'C_Thailand', 'C_Trinadad&Tobago',\n",
       "       'C_United-States', 'C_Vietnam', 'C_Yugoslavia'],\n",
       "      dtype='object')"
      ]
     },
     "execution_count": 15,
     "metadata": {},
     "output_type": "execute_result"
    }
   ],
   "source": [
    "#conversion de variables a categoricas\n",
    "income[\"Workclass\"] = income[\"Workclass\"].astype(\"category\")\n",
    "income[\"Education\"] = income[\"Education\"].astype(\"category\")\n",
    "income[\"Martial Status\"] = income[\"Martial Status\"].astype(\"category\")\n",
    "income[\"Occupation\"] = income[\"Occupation\"].astype(\"category\")\n",
    "income[\"Relationship\"] = income[\"Relationship\"].astype(\"category\")\n",
    "income[\"Race\"] = income[\"Race\"].astype(\"category\")\n",
    "income[\"Sex\"] = income[\"Sex\"].astype(\"category\")\n",
    "income[\"Country\"] = income[\"Country\"].astype(\"category\")\n",
    "\n",
    "#Construccion de variables dummies\n",
    "Workclass_df=pd.get_dummies(income['Workclass'],prefix='w',drop_first=True)\n",
    "Education_df=pd.get_dummies(income['Education'],prefix='E',drop_first=True)\n",
    "Martial_Status_df=pd.get_dummies(income['Martial Status'],prefix='M',drop_first=True)\n",
    "Occupation_df=pd.get_dummies(income['Occupation'],prefix='O',drop_first=True)\n",
    "Relationship_df=pd.get_dummies(income['Relationship'],prefix='R',drop_first=True)\n",
    "Race_df=pd.get_dummies(income['Race'],prefix='RA',drop_first=True)\n",
    "Sex_df=pd.get_dummies(income['Sex'],prefix='S',drop_first=True)\n",
    "Country_df=pd.get_dummies(income['Country'],prefix='C',drop_first=True)\n",
    "\n",
    "#Adjuntamos dummies a la base\n",
    "income=income.join(Workclass_df)\n",
    "income=income.join(Education_df)\n",
    "income=income.join(Martial_Status_df)\n",
    "income=income.join(Occupation_df)\n",
    "income=income.join(Relationship_df)\n",
    "income=income.join(Race_df)\n",
    "income=income.join(Sex_df)\n",
    "income=income.join(Country_df)\n",
    "\n",
    "#Seleccion de variables\n",
    "X_num = income.loc[:, income.dtypes != 'category' ]\n",
    "X_reg = X_num.loc[:, X_num.columns != 'Income']\n",
    "X_reg.head()\n",
    "X_reg.columns"
   ]
  },
  {
   "cell_type": "markdown",
   "metadata": {},
   "source": [
    "Estimamos el modelo"
   ]
  },
  {
   "cell_type": "code",
   "execution_count": 19,
   "metadata": {},
   "outputs": [
    {
     "data": {
      "text/plain": [
       "LinearRegression(copy_X=True, fit_intercept=True, n_jobs=1, normalize=False)"
      ]
     },
     "execution_count": 19,
     "metadata": {},
     "output_type": "execute_result"
    }
   ],
   "source": [
    "#modelo\n",
    "lin_reg_3 = LinearRegression()\n",
    "lin_reg_3.fit(X_reg, income['Income'].values.reshape(-1, 1))\n",
    "\n"
   ]
  },
  {
   "cell_type": "markdown",
   "metadata": {},
   "source": [
    "Calculamos el MSE"
   ]
  },
  {
   "cell_type": "code",
   "execution_count": 21,
   "metadata": {},
   "outputs": [
    {
     "name": "stdout",
     "output_type": "stream",
     "text": [
      "MSE :  287648796.93\n"
     ]
    }
   ],
   "source": [
    "y_estimado_3 = lin_reg_3.predict(X_reg)\n",
    "MSE_3 = metrics.mean_squared_error(income['Income'].values.reshape(-1, 1), y_estimado_3)\n",
    "print('MSE : ',MSE_3)"
   ]
  },
  {
   "cell_type": "code",
   "execution_count": 22,
   "metadata": {},
   "outputs": [
    {
     "name": "stdout",
     "output_type": "stream",
     "text": [
      "MSE Age :  593783043.84\n",
      "MSE Age y Age2:  549233115.876\n",
      "MSE Todas numéricas:  287648796.93\n"
     ]
    }
   ],
   "source": [
    "print('MSE Age : ',MSE)\n",
    "print('MSE Age y Age2: ',MSE_2)\n",
    "print('MSE Todas numéricas: ',MSE_3)"
   ]
  },
  {
   "cell_type": "markdown",
   "metadata": {},
   "source": [
    "El desempeño del modelo mejora considerablemente si incluimos más variables"
   ]
  },
  {
   "cell_type": "markdown",
   "metadata": {},
   "source": [
    "# Exercise 2.5\n",
    "\n",
    "\n",
    "Estimate a logistic regression to predict if a person is in the United States.\n",
    "\n",
    "What is the performance of the model"
   ]
  },
  {
   "cell_type": "code",
   "execution_count": 26,
   "metadata": {},
   "outputs": [
    {
     "data": {
      "text/plain": [
       "1.0    29170\n",
       "0.0     3391\n",
       "Name: isUS, dtype: int64"
      ]
     },
     "execution_count": 26,
     "metadata": {},
     "output_type": "execute_result"
    }
   ],
   "source": [
    "income['isUS'] = (income['Country'] == 'United-States')*1.0\n",
    "income['isUS'].value_counts()"
   ]
  },
  {
   "cell_type": "code",
   "execution_count": 27,
   "metadata": {},
   "outputs": [
    {
     "data": {
      "text/plain": [
       "Index(['Age', 'fnlwgt', 'Education-Num', 'Capital Gain', 'Capital Loss',\n",
       "       'Hours per week', 'Income', 'Age_2', 'w_Local-gov', 'w_Never-worked',\n",
       "       'w_Private', 'w_Self-emp-inc', 'w_Self-emp-not-inc', 'w_State-gov',\n",
       "       'w_Without-pay', 'E_11th', 'E_12th', 'E_1st-4th', 'E_5th-6th',\n",
       "       'E_7th-8th', 'E_9th', 'E_Assoc-acdm', 'E_Assoc-voc', 'E_Bachelors',\n",
       "       'E_Doctorate', 'E_HS-grad', 'E_Masters', 'E_Preschool', 'E_Prof-school',\n",
       "       'E_Some-college', 'M_Married-AF-spouse', 'M_Married-civ-spouse',\n",
       "       'M_Married-spouse-absent', 'M_Never-married', 'M_Separated',\n",
       "       'M_Widowed', 'O_Armed-Forces', 'O_Craft-repair', 'O_Exec-managerial',\n",
       "       'O_Farming-fishing', 'O_Handlers-cleaners', 'O_Machine-op-inspct',\n",
       "       'O_Other-service', 'O_Priv-house-serv', 'O_Prof-specialty',\n",
       "       'O_Protective-serv', 'O_Sales', 'O_Tech-support', 'O_Transport-moving',\n",
       "       'R_Not-in-family', 'R_Other-relative', 'R_Own-child', 'R_Unmarried',\n",
       "       'R_Wife', 'RA_Asian-Pac-Islander', 'RA_Black', 'RA_Other', 'RA_White',\n",
       "       'S_Male'],\n",
       "      dtype='object')"
      ]
     },
     "execution_count": 27,
     "metadata": {},
     "output_type": "execute_result"
    }
   ],
   "source": [
    "#selección de variables eliminamos las relacionadas con el pais\n",
    "income_sin_pais = income.loc[:, income.columns.str[:2]  != 'C_' ]\n",
    "X_num = income_sin_pais.loc[:, income_sin_pais.dtypes != 'category' ]\n",
    "X_log = X_num.loc[:, X_num.columns != 'isUS']\n",
    "X_log.head()\n",
    "X_log.columns"
   ]
  },
  {
   "cell_type": "markdown",
   "metadata": {},
   "source": [
    "Calculamos una regresión logística para predecir el estado binario"
   ]
  },
  {
   "cell_type": "code",
   "execution_count": 28,
   "metadata": {},
   "outputs": [
    {
     "data": {
      "text/plain": [
       "LogisticRegression(C=1.0, class_weight=None, dual=False, fit_intercept=True,\n",
       "          intercept_scaling=1, max_iter=100, multi_class='ovr', n_jobs=1,\n",
       "          penalty='l2', random_state=None, solver='liblinear', tol=0.0001,\n",
       "          verbose=0, warm_start=False)"
      ]
     },
     "execution_count": 28,
     "metadata": {},
     "output_type": "execute_result"
    }
   ],
   "source": [
    "\n",
    "from sklearn.linear_model import LogisticRegression\n",
    "\n",
    "logistic = LogisticRegression()\n",
    "reg_log = logistic.fit(X_log, income['isUS'])\n",
    "reg_log"
   ]
  },
  {
   "cell_type": "markdown",
   "metadata": {},
   "source": [
    "Calculamos el Accuracy sobre la misma base que utilizamos para predecir el modelo"
   ]
  },
  {
   "cell_type": "code",
   "execution_count": 30,
   "metadata": {},
   "outputs": [
    {
     "name": "stdout",
     "output_type": "stream",
     "text": [
      "accuracy:  0.895857006848684\n"
     ]
    }
   ],
   "source": [
    "y_pred_log = reg_log.predict(X_log)\n",
    "acc = float((y_pred_log == income['isUS']).mean())\n",
    "print('accuracy: ', acc)"
   ]
  }
 ],
 "metadata": {
  "kernelspec": {
   "display_name": "Python 3",
   "language": "python",
   "name": "python3"
  },
  "language_info": {
   "codemirror_mode": {
    "name": "ipython",
    "version": 3
   },
   "file_extension": ".py",
   "mimetype": "text/x-python",
   "name": "python",
   "nbconvert_exporter": "python",
   "pygments_lexer": "ipython3",
   "version": "3.6.2"
  }
 },
 "nbformat": 4,
 "nbformat_minor": 2
}
